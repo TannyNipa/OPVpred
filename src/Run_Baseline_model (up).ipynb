{
 "cells": [
  {
   "cell_type": "code",
   "execution_count": null,
   "id": "b39144dd",
   "metadata": {},
   "outputs": [],
   "source": [
    "# import relevant libraries\n",
    "import numpy as np\n",
    "import pandas as pd\n",
    "import matplotlib.pyplot as plt\n",
    "import seaborn as sns\n",
    "from sklearn.metrics import f1_score\n",
    "from sklearn.base import clone\n",
    "\n",
    "import csv\n",
    "import pandas as pd\n",
    "\n",
    "# Load libraries\n",
    "import pandas as pd\n",
    "from sklearn.tree import DecisionTreeClassifier # Import Decision Tree Classifier\n",
    "from sklearn.model_selection import train_test_split # Import train_test_split function\n",
    "from sklearn import metrics #Import scikit-learn metrics module for accuracy calculation\n",
    "from sklearn.naive_bayes import GaussianNB\n",
    "from sklearn.metrics import accuracy_score,\tprecision_score, recall_score, roc_auc_score\n",
    "from sklearn.metrics import confusion_matrix,roc_auc_score\n",
    "from sklearn.linear_model import LogisticRegression\n",
    "from sklearn.svm import SVC\n",
    "from sklearn.linear_model import Perceptron\n",
    "from sklearn.tree import DecisionTreeClassifier\n",
    "from sklearn.ensemble import RandomForestClassifier\n",
    "import pickle\n",
    "from sklearn.neighbors import KNeighborsClassifier\n",
    "from sklearn.linear_model import SGDClassifier\n",
    "from sklearn.ensemble import GradientBoostingClassifier\n",
    "from statistics import mean\n",
    "import numpy as np\n",
    "\n",
    "from sklearn.feature_selection import mutual_info_classif as MIC\n",
    "import time\n",
    "from sklearn.neural_network import MLPClassifier\n",
    "import random\n",
    "import numpy as np\n",
    "from copy import deepcopy\n",
    "\n",
    "import ast\n",
    "from sklearn.ensemble import ExtraTreesClassifier\n",
    "from sklearn.feature_selection import SelectFromModel\n",
    "\n",
    "import seaborn as sns \n",
    "import matplotlib.pyplot as plt\n",
    "\n",
    "from sklearn import datasets\n",
    "from sklearn.multiclass import OneVsRestClassifier\n",
    "from sklearn.svm import LinearSVC\n",
    "from sklearn.datasets import make_classification\n",
    "from sklearn.naive_bayes import GaussianNB\n",
    "from sklearn.calibration import CalibratedClassifierCV\n",
    "\n",
    "from sklearn.neural_network import MLPClassifier\n",
    "from sklearn.datasets import make_classification\n",
    "from sklearn.model_selection import train_test_split\n",
    "#https://towardsdatascience.com/multi-class-metrics-made-simple-the-kappa-score-aka-cohens-kappa-coefficient-bdea137af09c\n",
    "from sklearn.metrics import cohen_kappa_score\n",
    " "
   ]
  },
  {
   "cell_type": "markdown",
   "id": "f713f01b",
   "metadata": {},
   "source": [
    "# Load training and independent datasets "
   ]
  },
  {
   "cell_type": "code",
   "execution_count": null,
   "id": "e33b2a33",
   "metadata": {},
   "outputs": [],
   "source": [
    "feature='RCKmer'"
   ]
  },
  {
   "cell_type": "code",
   "execution_count": null,
   "id": "b60a71d8",
   "metadata": {},
   "outputs": [],
   "source": [
    "path1='/home/admin1/Downloads/OPVpred_upload/Dataset'"
   ]
  },
  {
   "cell_type": "code",
   "execution_count": null,
   "id": "c28b3616",
   "metadata": {},
   "outputs": [],
   "source": [
    "y= pd.read_csv(f'{path1}/y_train.csv',header=None)#\n",
    "print(y.shape)\n",
    "y_i= pd.read_csv(f'{path1}/y_independent.csv',header=None)# y independent\n",
    "print(y_i.shape)"
   ]
  },
  {
   "cell_type": "code",
   "execution_count": null,
   "id": "17c3a400",
   "metadata": {},
   "outputs": [],
   "source": [
    "path3='/home/admin1/Downloads/OPVpred_upload/Features/'"
   ]
  },
  {
   "cell_type": "code",
   "execution_count": null,
   "id": "9ab8dc66",
   "metadata": {},
   "outputs": [],
   "source": [
    "X= pd.read_csv(f'{path3}/Training_ori/X_train_{feature}_ori.csv',header=None)#\n",
    "X_i= pd.read_csv(f'{path3}/Independent_ori/X_independent_{feature}_ori.csv',header=None)#\n",
    "print(X.shape)\n",
    "print(X_i.shape)"
   ]
  },
  {
   "cell_type": "code",
   "execution_count": null,
   "id": "6c5b1326",
   "metadata": {},
   "outputs": [],
   "source": [
    "print(np.max(X))\n",
    "print(np.max(X_i))"
   ]
  },
  {
   "cell_type": "code",
   "execution_count": null,
   "id": "a69aeab5",
   "metadata": {},
   "outputs": [],
   "source": [
    "#https://www.learndatasci.com/glossary/sparse-matrix/\n",
    "import numpy as np\n",
    "from scipy import sparse\n",
    "sparsity = 1.0 - (np.count_nonzero(X) / X.size)\n",
    "sparsity"
   ]
  },
  {
   "cell_type": "code",
   "execution_count": null,
   "id": "b56653eb",
   "metadata": {},
   "outputs": [],
   "source": [
    "d1 = {'sparsity': sparsity,'%sparsity': sparsity*100}\n",
    "\n",
    "df_ = pd.concat([pd.Series(v, name=k) for k, v in d1.items()], axis=1)\n",
    "df_.to_csv(f'Sparsity_Original_{feature}.csv', index=False)\n",
    "df_"
   ]
  },
  {
   "cell_type": "markdown",
   "id": "bfbf6bde",
   "metadata": {},
   "source": [
    "## Performance evaluation matrices"
   ]
  },
  {
   "cell_type": "code",
   "execution_count": null,
   "id": "abb98e03",
   "metadata": {},
   "outputs": [],
   "source": [
    "from sklearn import metrics\n",
    "import pickle\n",
    "\n",
    "# from ML_models import *\n",
    "from measurement_metrices import *\n",
    "from sklearn.metrics import cohen_kappa_score"
   ]
  },
  {
   "cell_type": "markdown",
   "id": "e4d797b3",
   "metadata": {},
   "source": [
    "# Split 5-fold CV\n",
    "https://github.com/christianversloot/machine-learning-articles/blob/main/how-to-use-k-fold-cross-validation-with-pytorch.md"
   ]
  },
  {
   "cell_type": "code",
   "execution_count": null,
   "id": "c683cc67",
   "metadata": {},
   "outputs": [],
   "source": [
    "# from sklearn.model_selection import KFold\n",
    "# from sklearn.model_selection import cross_val_predict\n",
    "\n",
    "# kf =KFold(n_splits=5, shuffle=True)\n",
    "\n",
    "# cnt = 1\n",
    "# train_index_list=[]\n",
    "# test_index_list=[]\n",
    "# for train_index, test_index in kf.split(X, y):\n",
    "#     train_index_list.append(list(train_index))\n",
    "#     test_index_list.append(list(test_index))\n",
    "#     np.savetxt(f'indices_train_{cnt}_fold.csv', train_index, delimiter=\",\", fmt=\"%.0f\")\n",
    "#     np.savetxt(f'indices_test_{cnt}_fold.csv', test_index, delimiter=\",\", fmt=\"%.0f\")\n",
    "#     print(f'Fold:{cnt}, Train set: {len(train_index)}, Test set:{len(test_index)}')\n",
    "#     cnt += 1\n",
    "# print(len(train_index_list))"
   ]
  },
  {
   "cell_type": "markdown",
   "id": "a2214a90",
   "metadata": {},
   "source": [
    "# Gridsearch for constructing the baseline model"
   ]
  },
  {
   "cell_type": "code",
   "execution_count": null,
   "id": "800a2572",
   "metadata": {},
   "outputs": [],
   "source": [
    "path2='/home/admin1/Downloads/OPVpred_upload/src/CV_index'\n",
    "\n",
    "fold_train1 = pd.read_csv(f'{path2}/indices_train_1_fold.csv',header=None)\n",
    "fold_train2 = pd.read_csv(f'{path2}/indices_train_2_fold.csv',header=None)\n",
    "fold_train3 = pd.read_csv(f'{path2}/indices_train_3_fold.csv',header=None)\n",
    "fold_train4 = pd.read_csv(f'{path2}/indices_train_4_fold.csv',header=None)\n",
    "fold_train5 = pd.read_csv(f'{path2}/indices_train_5_fold.csv',header=None)\n",
    "\n",
    "fold_valid1 = pd.read_csv(f'{path2}/indices_valid_1_fold.csv',header=None)\n",
    "fold_valid2 = pd.read_csv(f'{path2}/indices_valid_2_fold.csv',header=None)\n",
    "fold_valid3 = pd.read_csv(f'{path2}/indices_valid_3_fold.csv',header=None)\n",
    "fold_valid4 = pd.read_csv(f'{path2}/indices_valid_4_fold.csv',header=None)\n",
    "fold_valid5 = pd.read_csv(f'{path2}/indices_valid_5_fold.csv',header=None)\n",
    "\n",
    "train_index_list=[fold_train1.stack().tolist(),fold_train2.stack().tolist(),fold_train3.stack().tolist(),\n",
    "          fold_train4.stack().tolist(),fold_train5.stack().tolist()]\n",
    "\n",
    "valid_index_list=[fold_valid1.stack().tolist(),fold_valid2.stack().tolist(),fold_valid3.stack().tolist(),\n",
    "          fold_valid4.stack().tolist(),fold_valid5.stack().tolist()]"
   ]
  },
  {
   "cell_type": "code",
   "execution_count": null,
   "id": "cd0da9c4",
   "metadata": {},
   "outputs": [],
   "source": [
    "fold_train1"
   ]
  },
  {
   "cell_type": "code",
   "execution_count": null,
   "id": "aa377611",
   "metadata": {},
   "outputs": [],
   "source": [
    "custom_cv = zip(train_index_list,valid_index_list)\n",
    "custom_cv"
   ]
  },
  {
   "cell_type": "markdown",
   "id": "5bb1c152",
   "metadata": {},
   "source": [
    "# DT"
   ]
  },
  {
   "cell_type": "code",
   "execution_count": null,
   "id": "a5de8ed0",
   "metadata": {},
   "outputs": [],
   "source": [
    "from sklearn.tree import DecisionTreeClassifier\n",
    "from sklearn.model_selection import RandomizedSearchCV\n",
    "import scipy.stats\n",
    "from sklearn.model_selection import GridSearchCV\n",
    "params = {'max_features': list(range(1, 16, 1)),\n",
    "          'min_samples_split': list(range(2, 14,1)),\n",
    "}\n",
    "clf = GridSearchCV(DecisionTreeClassifier(random_state=0),params, cv=custom_cv,refit=True,n_jobs=-1,verbose=2)\n",
    "clf.fit(X, y)\n",
    "print(\"Best params : \" + str(clf.best_params_))\n",
    "print(\"5CV accuracy : \"+str(clf.best_score_*100))\n",
    "# Set the best parameters to the best estimator\n",
    "best_classifier_DT = clf.best_estimator_\n",
    "# best_classifier_DT=best_classifier.fit(X_train_norm, y_train)\n",
    "print(best_classifier_DT)\n",
    "filename = f'GSCV_finalized_DT_model_{feature}1.sav'\n",
    "pickle.dump( best_classifier_DT , open(filename, 'wb'))"
   ]
  },
  {
   "cell_type": "code",
   "execution_count": null,
   "id": "bd2a33a2",
   "metadata": {},
   "outputs": [],
   "source": [
    "print(\"Best params : \" + str(clf.best_params_))\n",
    "print(\"5CV accuracy : \"+str(clf.best_score_*100))\n",
    "print(clf.best_estimator_)"
   ]
  },
  {
   "cell_type": "code",
   "execution_count": null,
   "id": "d1607d5d",
   "metadata": {},
   "outputs": [],
   "source": [
    "from sklearn.model_selection import ParameterGrid\n",
    "params = {'min_samples_split': list(range(2, 14,1)),\n",
    "   'max_features': ['auto', 'sqrt',list(range(1, 16, 1))],\n",
    "#    'bootstrap' : [True, False],\n",
    "#    'criterion' : ['gini','entropy'],\n",
    "}\n",
    "\n",
    "pg = ParameterGrid(params)\n",
    "len(pg)"
   ]
  },
  {
   "cell_type": "markdown",
   "id": "7af14dbf",
   "metadata": {},
   "source": [
    "# KNN"
   ]
  },
  {
   "cell_type": "code",
   "execution_count": null,
   "id": "60acef0a",
   "metadata": {},
   "outputs": [],
   "source": [
    "custom_cv = zip(train_index_list,valid_index_list)\n",
    "custom_cv"
   ]
  },
  {
   "cell_type": "code",
   "execution_count": null,
   "id": "60e74ffb",
   "metadata": {},
   "outputs": [],
   "source": [
    "from sklearn.neighbors import KNeighborsClassifier\n",
    "from sklearn.model_selection import GridSearchCV\n",
    "\n",
    "params = {'n_neighbors' : list(range(2,11,1)),\n",
    "}\n",
    "\n",
    "clf = GridSearchCV(KNeighborsClassifier(),params,cv=custom_cv,refit=True,n_jobs=-1,verbose=2)\n",
    "clf.fit(X, y)\n",
    "\n",
    "print(\"Best params : \" + str(clf.best_params_))\n",
    "print(\"5CV accuracy : \"+str(clf.best_score_*100))\n",
    "print(clf.best_estimator_)\n",
    "# Set the best parameters to the best estimator\n",
    "best_classifier_KNN = clf.best_estimator_\n",
    "# best_classifier_RF=best_classifier.fit(X_train_norm, y_train)\n",
    "filename = f'GSCV_finalized_KNN_model_{feature}.sav'\n",
    "pickle.dump( best_classifier_KNN, open(filename, 'wb'))"
   ]
  },
  {
   "cell_type": "code",
   "execution_count": null,
   "id": "1197a4c3",
   "metadata": {},
   "outputs": [],
   "source": [
    "print(\"Best params : \" + str(clf.best_params_))\n",
    "print(\"5CV accuracy : \"+str(clf.best_score_*100))\n",
    "print(clf.best_estimator_)"
   ]
  },
  {
   "cell_type": "code",
   "execution_count": null,
   "id": "5821fc7f",
   "metadata": {},
   "outputs": [],
   "source": [
    "from sklearn.model_selection import ParameterGrid\n",
    "from itertools import product\n",
    "\n",
    "params = {'n_neighbors' : list(range(1,31,1)),\n",
    "}\n",
    "\n",
    "pg = ParameterGrid(params)\n",
    "len(pg)"
   ]
  },
  {
   "cell_type": "markdown",
   "id": "866cfdfd",
   "metadata": {},
   "source": [
    "# Random forest"
   ]
  },
  {
   "cell_type": "markdown",
   "id": "b1e8850d",
   "metadata": {},
   "source": [
    "5-Folds Cross Validation Training Accuracy"
   ]
  },
  {
   "cell_type": "code",
   "execution_count": null,
   "id": "ea4a5d88",
   "metadata": {},
   "outputs": [],
   "source": [
    "custom_cv = zip(train_index_list,valid_index_list)\n",
    "custom_cv"
   ]
  },
  {
   "cell_type": "code",
   "execution_count": null,
   "id": "2761ff37",
   "metadata": {},
   "outputs": [],
   "source": [
    "%%time\n",
    "from sklearn.ensemble import RandomForestClassifier\n",
    "from sklearn.model_selection import GridSearchCV\n",
    "from sklearn.model_selection import RandomizedSearchCV\n",
    "import scipy.stats\n",
    "\n",
    "params = {'n_estimators' : list(range(100, 1001, 10)),\n",
    "       'max_features': list(range(1, 16, 1)),\n",
    "       'min_samples_split': list(range(2, 14,1))\n",
    "}\n",
    "\n",
    "clf = GridSearchCV(RandomForestClassifier(random_state=0),params , cv=custom_cv,refit=True,n_jobs=-1,verbose=2)\n",
    "clf.fit(X, y)\n",
    "print(\"Best params : \" + str(clf.best_params_))\n",
    "print(\"5CV accuracy : \"+str(clf.best_score_*100))\n",
    "print(clf.best_estimator_)\n",
    "# Set the best parameters to the best estimator\n",
    "best_classifier_RF = clf.best_estimator_\n",
    "# best_classifier_RF=best_classifier.fit(X_train_norm, y_train)\n",
    "filename = f'GSCV_finalized_RF_model_{feature}.sav'\n",
    "pickle.dump( best_classifier_RF, open(filename, 'wb'))"
   ]
  },
  {
   "cell_type": "code",
   "execution_count": null,
   "id": "7724fad1",
   "metadata": {},
   "outputs": [],
   "source": [
    "print(\"Best params : \" + str(clf.best_params_))\n",
    "print(\"5CV accuracy : \"+str(clf.best_score_*100))\n",
    "print(clf.best_estimator_)"
   ]
  },
  {
   "cell_type": "code",
   "execution_count": null,
   "id": "457bec2d",
   "metadata": {},
   "outputs": [],
   "source": [
    "from sklearn.model_selection import ParameterGrid\n",
    "from itertools import product\n",
    "\n",
    "\n",
    "params = {'n_estimators' : list(range(100, 1001, 10)),\n",
    "   'min_samples_split': list(range(2, 21,1)),\n",
    "   'max_features': list(range(1, 21, 1)),\n",
    "#    'criterion' : ['gini','entropy'],\n",
    "}\n",
    "\n",
    "\n",
    "pg = ParameterGrid(params)\n",
    "len(pg)"
   ]
  },
  {
   "cell_type": "markdown",
   "id": "3cb44172",
   "metadata": {},
   "source": [
    "# ExtraTreeClassifier"
   ]
  },
  {
   "cell_type": "code",
   "execution_count": null,
   "id": "64ba72ff",
   "metadata": {},
   "outputs": [],
   "source": [
    "custom_cv = zip(train_index_list,valid_index_list)\n",
    "custom_cv"
   ]
  },
  {
   "cell_type": "code",
   "execution_count": null,
   "id": "bffe17af",
   "metadata": {},
   "outputs": [],
   "source": [
    "from sklearn.ensemble import BaggingClassifier\n",
    "from sklearn.tree import ExtraTreeClassifier\n",
    "\n",
    "params = {'max_features': list(range(1, 16, 1)),\n",
    "          'min_samples_split': list(range(2, 14,1))\n",
    "}\n",
    "# 'n_estimators' : list(range(100, 1001, 10)),\n",
    "# clf = RandomizedSearchCV(ExtraTreeClassifier(random_state=0),params,n_iter=1000,cv=5,refit=True,n_jobs=-1)\n",
    "# clf=BaggingClassifier(extra_tree, random_state=0).fit(X_train_norm, y_train)\n",
    "\n",
    "clf = GridSearchCV(ExtraTreeClassifier(random_state=0),params,cv=custom_cv,refit=True,n_jobs=-1)\n",
    "clf.fit(X, y)\n",
    "print(\"Best params : \" + str(clf.best_params_))\n",
    "print(\"5CV accuracy : \"+str(clf.best_score_*100))\n",
    "print(clf.best_estimator_)\n",
    "# Set the best parameters to the best estimator\n",
    "best_classifier_ERT = clf.best_estimator_\n",
    "# best_classifier_RF=best_classifier.fit(X_train_norm, y_train)\n",
    "filename = f'GSCV_finalized_ERT_model_{feature}.sav'\n",
    "pickle.dump( best_classifier_ERT, open(filename, 'wb'))"
   ]
  },
  {
   "cell_type": "code",
   "execution_count": null,
   "id": "a51ba877",
   "metadata": {},
   "outputs": [],
   "source": [
    "print(\"Best params : \" + str(clf.best_params_))\n",
    "print(\"5CV accuracy : \"+str(clf.best_score_*100))\n",
    "print(clf.best_estimator_)"
   ]
  },
  {
   "cell_type": "code",
   "execution_count": null,
   "id": "43023994",
   "metadata": {},
   "outputs": [],
   "source": [
    "from sklearn.model_selection import ParameterGrid\n",
    "from itertools import product\n",
    "\n",
    "\n",
    "params = {'max_features': list(range(1, 16, 1)),\n",
    "          'min_samples_split': list(range(2, 14,1))\n",
    "#    'bootstrap' : [True, False],\n",
    "#    'criterion' : ['gini','entropy'],\n",
    "}\n",
    "\n",
    "pg = ParameterGrid(params)\n",
    "len(pg)"
   ]
  },
  {
   "cell_type": "markdown",
   "id": "31a6171a",
   "metadata": {},
   "source": [
    "# Support vector machine"
   ]
  },
  {
   "cell_type": "code",
   "execution_count": null,
   "id": "3edb0083",
   "metadata": {},
   "outputs": [],
   "source": [
    "custom_cv = zip(train_index_list,valid_index_list)\n",
    "custom_cv"
   ]
  },
  {
   "cell_type": "code",
   "execution_count": null,
   "id": "c9521078",
   "metadata": {},
   "outputs": [],
   "source": [
    "from sklearn.svm import SVC\n",
    "from sklearn.model_selection import GridSearchCV\n",
    "from itertools import product\n",
    "import numpy as np\n",
    "\n",
    "params = {\n",
    "    'C' : [x for x in np.arange((2**(-5)), (2**(15)),2)], # High C = Overfitting\n",
    "#     'gamma' : [x for x in np.arange((2**(-15)), (2**(-5)),2**(-1))] # High gamma = Overfitting\n",
    "}\n",
    "clf = GridSearchCV(SVC(probability=True),params,cv=custom_cv,refit=True,n_jobs=-1,verbose=2)\n",
    "\n",
    "clf.fit(X, y)\n",
    "print(\"Best params : \" + str(clf.best_params_))\n",
    "print(\"5CV accuracy : \"+str(clf.best_score_*100))\n",
    "# Set the best parameters to the best estimator\n",
    "best_classifier_SVM = clf.best_estimator_\n",
    "# best_classifier_SVM=best_classifier.fit(X_train_norm, y_train)\n",
    "# \n",
    "filename = f'GSCV_finalized_SVM_model_{feature}.sav'\n",
    "pickle.dump( best_classifier_SVM, open(filename, 'wb'))"
   ]
  },
  {
   "cell_type": "code",
   "execution_count": null,
   "id": "c8b4c30f",
   "metadata": {},
   "outputs": [],
   "source": [
    "from sklearn.model_selection import ParameterGrid\n",
    "from itertools import product\n",
    "\n",
    "params = {\n",
    "    'C' : [x for x in np.arange((2**(-5)), (2**(15)),2)], # High C = Overfitting\n",
    "#     'gamma' : [x for x in np.arange((2**(-15)), (2**(-5)),2**(-1))] # High gamma = Overfitting\n",
    "}\n",
    "pg = ParameterGrid(params)\n",
    "len(pg)"
   ]
  },
  {
   "cell_type": "code",
   "execution_count": null,
   "id": "f4c487d2",
   "metadata": {},
   "outputs": [],
   "source": [
    "print(\"Best params : \" + str(clf.best_params_))\n",
    "print(\"5CV accuracy : \"+str(clf.best_score_*100))\n",
    "print(clf.best_estimator_)"
   ]
  },
  {
   "cell_type": "markdown",
   "id": "c263029f",
   "metadata": {},
   "source": [
    "# XGboost"
   ]
  },
  {
   "cell_type": "code",
   "execution_count": null,
   "id": "4c1a9b06",
   "metadata": {},
   "outputs": [],
   "source": [
    "custom_cv = zip(train_index_list,valid_index_list)\n",
    "custom_cv"
   ]
  },
  {
   "cell_type": "code",
   "execution_count": null,
   "id": "430a263b",
   "metadata": {},
   "outputs": [],
   "source": [
    "import xgboost as xgb\n",
    "from sklearn.model_selection import GridSearchCV\n",
    "from sklearn.model_selection import RandomizedSearchCV\n",
    "import scipy.stats\n",
    "\n",
    "params = {'n_estimators' : list(range(100, 1001, 10)),\n",
    "#     'max_depth' : list(range(1,11,1)),\n",
    "#     'gamma' : list(np.arange(0.1,10.1,0.1)), # High gamma as much as possible\n",
    "#     'learning_rate' : list(np.arange(0.01,0.11,0.01)),\n",
    "#     'min_child_weight' : list(range(1,11,1)),  # High as much as possible\n",
    "#     'sub_sample' : list(np.arange(0.1,1.1,0.1)),\n",
    "#     'colsample_bytree' :  list(np.arange(0.1,1.1,0.1)),\n",
    "#     'reg_lambda' : list(np.arange(0.1,1.1,0.1)),\n",
    "#     'reg_alpha' : list(np.arange(0.1,1.1,0.1)),\n",
    "}\n",
    "          \n",
    "clf = GridSearchCV(xgb.XGBClassifier(random_state=0, objective='multi:softproba'),params, cv=custom_cv,refit=True,n_jobs=-1,verbose=2)\n",
    "\n",
    "clf.fit(X, y)\n",
    "print(\"Best params : \" + str(clf.best_params_))\n",
    "print(\"5CV accuracy : \"+str(clf.best_score_*100))\n",
    "print(clf.best_estimator_)\n",
    "# Set the best parameters to the best estimator\n",
    "best_classifier_XGB= clf.best_estimator_\n",
    "# best_classifier_RF=best_classifier.fit(X_train_norm, y_train)\n",
    "filename = f'GSCV_finalized_XGB_model_{feature}_1.sav'\n",
    "pickle.dump( best_classifier_XGB, open(filename, 'wb'))"
   ]
  },
  {
   "cell_type": "code",
   "execution_count": null,
   "id": "559d8fd3",
   "metadata": {},
   "outputs": [],
   "source": [
    "from sklearn.model_selection import ParameterGrid\n",
    "from itertools import product\n",
    "\n",
    "\n",
    "params = {'n_estimators' : list(range(100, 1001, 10)),\n",
    "#     'max_depth' : list(range(1,11,1)),\n",
    "#     'gamma' : list(np.arange(0.1,10.1,0.1)), # High gamma as much as possible\n",
    "#     'learning_rate' : list(np.arange(0.01,0.11,0.01)),\n",
    "#     'min_child_weight' : list(range(1,11,1)),  # High as much as possible\n",
    "#     'sub_sample' : list(np.arange(0.1,1.1,0.1)),\n",
    "#     'colsample_bytree' :  list(np.arange(0.1,1.1,0.1)),\n",
    "#     'reg_lambda' : list(np.arange(0.1,1.1,0.1)),\n",
    "#     'reg_alpha' : list(np.arange(0.1,1.1,0.1)),\n",
    "}\n",
    "pg = ParameterGrid(params)\n",
    "len(pg)"
   ]
  },
  {
   "cell_type": "code",
   "execution_count": null,
   "id": "aa1c7e74",
   "metadata": {},
   "outputs": [],
   "source": [
    "# print(\"Best params : \" + str(clf.best_params_))\n",
    "print(\"5CV accuracy : \"+str(clf.best_score_*100))\n",
    "print(clf.best_estimator_)"
   ]
  },
  {
   "cell_type": "markdown",
   "id": "fa5186f5",
   "metadata": {},
   "source": [
    "## Performance evaluation matrices"
   ]
  },
  {
   "cell_type": "code",
   "execution_count": null,
   "id": "7b4aea51",
   "metadata": {},
   "outputs": [],
   "source": [
    "from sklearn import metrics\n",
    "import pickle\n",
    "\n",
    "# from ML_models import *\n",
    "from measurement_metrices import *\n",
    "from sklearn.metrics import cohen_kappa_score"
   ]
  },
  {
   "cell_type": "code",
   "execution_count": null,
   "id": "80f9c655",
   "metadata": {},
   "outputs": [],
   "source": [
    "from sklearn import tree\n",
    "\n",
    "def ML_model(X,y,model,train_index_list,valid_index_list):\n",
    "    labels, cnt = np.unique(y,return_counts=True)\n",
    "    n_classes = len(labels)\n",
    "    acc_app=[]\n",
    "    sen_app=[]  \n",
    "    spec_app=[] \n",
    "    mccE_app=[] \n",
    "    tp_app=[]   \n",
    "    tn_app=[]   \n",
    "    fp_app=[]   \n",
    "    fn_app=[]\n",
    "    kappa_app=[]\n",
    "    mccv_app=[]\n",
    "    auc_app=[]\n",
    "    prediction_result_cv=[]\n",
    "    feature_importances_dt=[]\n",
    "    for i in range(5):\n",
    "        trained=train_index_list[i]\n",
    "        valided=valid_index_list[i]\n",
    "        train_y, train_X = y.iloc[trained], X.iloc[trained]\n",
    "        valid_y, valid_X = y.iloc[valided], X.iloc[valided]\n",
    "        rfc = model.fit(train_X, train_y)\n",
    "        scores = rfc.predict_proba(valid_X)\n",
    "        y_pred = rfc.predict(valid_X)\n",
    "        ### measurement matrices\n",
    "        acc  = metrics.accuracy_score(valid_y, y_pred)\n",
    "        perm = performance(valid_y, y_pred)\n",
    "        sen  = perm[1]\n",
    "        spec = perm[2]\n",
    "        mccE = perm[3]\n",
    "        tp   = perm[4]\n",
    "        tn   = perm[5]\n",
    "        fp   = perm[6]\n",
    "        fn   = perm[7]\n",
    "        ### roc_auc\n",
    "        dims=valid_y.shape[0]\n",
    "        valid_y_reshape=valid_y.values.reshape(dims,)\n",
    "        tpr,fpr,auc= roc_auc(\n",
    "        y_true= valid_y_reshape, \n",
    "        y_pred= y_pred, \n",
    "        y_score= scores)\n",
    "        ## measure multi-class\n",
    "        kappa = cohen_kappa_score(valid_y, y_pred)\n",
    "        mccv  = mcc(valid_y, y_pred)\n",
    "        ##### append to list\n",
    "        acc_app.append(acc)\n",
    "        sen_app.append(sen)\n",
    "        spec_app.append(spec)\n",
    "        mccE_app.append(mccE)\n",
    "        tp_app.append(tp)\n",
    "        tn_app.append(tn)  \n",
    "        fp_app.append(fp)\n",
    "        fn_app.append(fn)\n",
    "        kappa_app.append(kappa)\n",
    "        mccv_app.append(mccv)\n",
    "        auc_app.append(auc)\n",
    "        tmp_result = np.zeros((len(valid_y), n_classes + 2))\n",
    "        tmp_result[:, 0],tmp_result[:, 1], tmp_result[:, 2:] = valid_y_reshape, y_pred, scores\n",
    "        prediction_result_cv.append(tmp_result)\n",
    "    OA=np.sum(tp_app)/y.shape[0]\n",
    "        \n",
    "    return acc_app, sen_app, spec_app,auc_app,mccE_app,tp_app, tn_app,fp_app,fn_app, kappa_app, mccv_app,OA, prediction_result_cv"
   ]
  },
  {
   "cell_type": "code",
   "execution_count": null,
   "id": "13cef0ff",
   "metadata": {},
   "outputs": [],
   "source": [
    "n_classesL=[]\n",
    "clf_dt = clone(best_classifier_DT)\n",
    "clf_ert = clone(best_classifier_ERT)\n",
    "clf_rf = clone(best_classifier_RF)\n",
    "clf_knn = clone(best_classifier_KNN)\n",
    "clf_svm = clone(best_classifier_SVM)\n",
    "clf_xgb = clone(best_classifier_XGB)"
   ]
  },
  {
   "cell_type": "markdown",
   "id": "e5576590",
   "metadata": {},
   "source": [
    "# Run baseline model of training dataset"
   ]
  },
  {
   "cell_type": "markdown",
   "id": "3cdcfc4c",
   "metadata": {},
   "source": [
    "# Decision Tree"
   ]
  },
  {
   "cell_type": "code",
   "execution_count": null,
   "id": "1da79e32",
   "metadata": {},
   "outputs": [],
   "source": [
    "from sklearn.tree import DecisionTreeClassifier\n",
    "\n",
    "model_dt = clone(best_classifier_DT)\n",
    "\n",
    "acc_dt, sen_dt, spec_dt,auc_dt,mccE_dt,tp_dt\\\n",
    ", tn_dt,fp_dt,fn_dt, kappa_dt, mccv_dt,OA_dt, prediction_result_cv_dt= ML_model(X,y,model_dt,train_index_list,valid_index_list)"
   ]
  },
  {
   "cell_type": "code",
   "execution_count": null,
   "id": "df12f083",
   "metadata": {},
   "outputs": [],
   "source": [
    "print(acc_dt)\n",
    "print(mean(acc_dt))"
   ]
  },
  {
   "cell_type": "markdown",
   "id": "fa4fafc7",
   "metadata": {},
   "source": [
    "# Extremely Randomized Tree classifier"
   ]
  },
  {
   "cell_type": "code",
   "execution_count": null,
   "id": "9f8250a7",
   "metadata": {},
   "outputs": [],
   "source": [
    "from sklearn.ensemble import BaggingClassifier\n",
    "from sklearn.tree import ExtraTreeClassifier\n",
    "\n",
    "model_ert = clone(best_classifier_ERT)\n",
    "\n",
    "acc_ert, sen_ert, spec_ert,auc_ert,mccE_ert,tp_ert\\\n",
    ", tn_ert,fp_ert,fn_ert, kappa_ert, mccv_ert,OA_ert, prediction_result_cv_ert= ML_model(X,y,model_ert,train_index_list,valid_index_list)"
   ]
  },
  {
   "cell_type": "code",
   "execution_count": null,
   "id": "36835b36",
   "metadata": {},
   "outputs": [],
   "source": [
    "print(acc_ert)\n",
    "print(mean(acc_ert))"
   ]
  },
  {
   "cell_type": "markdown",
   "id": "921f9de8",
   "metadata": {},
   "source": [
    "# KNN"
   ]
  },
  {
   "cell_type": "code",
   "execution_count": null,
   "id": "4143210b",
   "metadata": {
    "scrolled": true
   },
   "outputs": [],
   "source": [
    "from sklearn.neighbors import KNeighborsClassifier\n",
    "\n",
    "model_knn = clone(best_classifier_KNN)\n",
    "\n",
    "acc_knn, sen_knn, spec_knn,auc_knn,mccE_knn,tp_knn\\\n",
    ", tn_knn,fp_knn,fn_knn, kappa_knn, mccv_knn,OA_knn,prediction_result_cv_knn= ML_model(X,y,model_knn,train_index_list,valid_index_list)"
   ]
  },
  {
   "cell_type": "code",
   "execution_count": null,
   "id": "34486d5c",
   "metadata": {},
   "outputs": [],
   "source": [
    "print(acc_knn)\n",
    "print(mean(acc_knn))"
   ]
  },
  {
   "cell_type": "markdown",
   "id": "83143e0e",
   "metadata": {},
   "source": [
    "# RF"
   ]
  },
  {
   "cell_type": "code",
   "execution_count": null,
   "id": "73eb5848",
   "metadata": {},
   "outputs": [],
   "source": [
    "from sklearn.ensemble import RandomForestClassifier\n",
    "\n",
    "model_rf= clone(best_classifier_RF)\n",
    "\n",
    "acc_rf, sen_rf, spec_rf,auc_rf,mccE_rf,tp_rf\\\n",
    ", tn_rf,fp_rf,fn_rf, kappa_rf, mccv_rf,OA_rf,prediction_result_cv_rf= ML_model(X,y,model_rf,train_index_list,valid_index_list)"
   ]
  },
  {
   "cell_type": "code",
   "execution_count": null,
   "id": "01bc2790",
   "metadata": {},
   "outputs": [],
   "source": [
    "print(acc_rf)\n",
    "print(np.mean(acc_rf))"
   ]
  },
  {
   "cell_type": "markdown",
   "id": "ae88bf3b",
   "metadata": {},
   "source": [
    "# SVM"
   ]
  },
  {
   "cell_type": "code",
   "execution_count": null,
   "id": "1f956e63",
   "metadata": {},
   "outputs": [],
   "source": [
    "model_svm= clone(best_classifier_SVM)\n",
    "\n",
    "acc_svm, sen_svm, spec_svm,auc_svm,mccE_svm,tp_svm\\\n",
    ", tn_svm,fp_svm,fn_svm, kappa_svm, mccv_svm,OA_svm,prediction_result_cv_svm= ML_model(X,y,model_svm,train_index_list,valid_index_list)"
   ]
  },
  {
   "cell_type": "code",
   "execution_count": null,
   "id": "a8da662f",
   "metadata": {},
   "outputs": [],
   "source": [
    "print(acc_svm)\n",
    "print(np.mean(acc_svm))"
   ]
  },
  {
   "cell_type": "markdown",
   "id": "fe8deda2",
   "metadata": {},
   "source": [
    "# XGboost"
   ]
  },
  {
   "cell_type": "code",
   "execution_count": null,
   "id": "5d5393c0",
   "metadata": {},
   "outputs": [],
   "source": [
    "model_xgb= clone(best_classifier_XGB)\n",
    "\n",
    "acc_xgb, sen_xgb, spec_xgb,auc_xgb,mccE_xgb,tp_xgb\\\n",
    ", tn_xgb,fp_xgb,fn_xgb, kappa_xgb, mccv_xgb,OA_xgb,prediction_result_cv_xgb= ML_model(X,y,model_xgb,train_index_list,valid_index_list)"
   ]
  },
  {
   "cell_type": "code",
   "execution_count": null,
   "id": "591e3d24",
   "metadata": {},
   "outputs": [],
   "source": [
    "print(acc_xgb)\n",
    "print(np.mean(acc_xgb))"
   ]
  },
  {
   "cell_type": "markdown",
   "id": "d7930cd6",
   "metadata": {},
   "source": [
    "# Save results of training dataset"
   ]
  },
  {
   "cell_type": "code",
   "execution_count": null,
   "id": "6a063216",
   "metadata": {},
   "outputs": [],
   "source": [
    "def write_reportcv(prediction_result,model):\n",
    "    \n",
    "    valid_y_model=[]\n",
    "    y_pred_model=[]\n",
    "\n",
    "    for i in range(5):\n",
    "        for j in range(len(prediction_result[i][:,0])):\n",
    "            add = prediction_result[i][:,0][j]\n",
    "            add = add.astype(int)\n",
    "            valid_y_model.append(add)\n",
    "            addx = prediction_result[i][:,1][j]\n",
    "            addx = addx.astype(int)\n",
    "            y_pred_model.append(addx)\n",
    "\n",
    "    y_score_model=[]\n",
    "    for i in range(5):\n",
    "        for j in range(len(prediction_result[i][:,2:])):\n",
    "            add_app=[]\n",
    "            for k in range(4):\n",
    "                addy = prediction_result[i][:,2:][j][k]\n",
    "                addy = addy.astype(float)\n",
    "                add_app.append(addy)\n",
    "            y_score_model.append(add_app)\n",
    "    np.savetxt(f\"score_{model}.csv\",y_score_model,delimiter =\", \",)\n",
    "    np.savetxt(f\"valid_y_{model}.csv\",valid_y_model,delimiter =\", \",)\n",
    "    np.savetxt(f\"y_pred_{model}.csv\",y_pred_model,delimiter =\", \",)\n",
    "    return "
   ]
  },
  {
   "cell_type": "code",
   "execution_count": null,
   "id": "75f172f1",
   "metadata": {},
   "outputs": [],
   "source": [
    "write_reportcv(prediction_result_cv_dt,f'dt_{feature}')\n",
    "write_reportcv(prediction_result_cv_ert,f'ert_{feature}')\n",
    "write_reportcv(prediction_result_cv_knn,f'knn_{feature}')\n",
    "write_reportcv(prediction_result_cv_rf,f'rf_{feature}')\n",
    "write_reportcv(prediction_result_cv_svm,f'svm_{feature}')\n",
    "write_reportcv(prediction_result_cv_xgb,f'xgb_{feature}')"
   ]
  },
  {
   "cell_type": "markdown",
   "id": "0a95ef9a",
   "metadata": {},
   "source": [
    "## Savefiles"
   ]
  },
  {
   "cell_type": "code",
   "execution_count": null,
   "id": "89022415",
   "metadata": {},
   "outputs": [],
   "source": [
    "### Cowpox\n",
    "models_cowpox = pd.DataFrame({\n",
    "    'Model': ['DT','ERT','KNN','RF','SVM','XGB'],\n",
    "    'Sen' : [np.mean(np.array(sen_dt)[:,0]),np.mean(np.array(sen_ert)[:,0]),np.mean(np.array(sen_knn)[:,0]),np.mean(np.array(sen_rf)[:,0]),np.mean(np.array(sen_svm)[:,0]),np.mean(np.array(sen_xgb)[:,0])],\n",
    "    'Spec': [np.mean(np.array(spec_dt)[:,0]),np.mean(np.array(spec_ert)[:,0]),np.mean(np.array(spec_knn)[:,0]),np.mean(np.array(spec_rf)[:,0]),np.mean(np.array(spec_svm)[:,0]),np.mean(np.array(spec_xgb)[:,0])],\n",
    "    'AUC' : [np.mean(np.array(auc_dt)[:,0]),np.mean(np.array(auc_ert)[:,0]),np.mean(np.array(auc_knn)[:,0]),np.mean(np.array(auc_rf)[:,0]),np.mean(np.array(auc_svm)[:,0]),np.mean(np.array(auc_xgb)[:,0])],\n",
    "    'MCC' : [np.mean(np.array(mccE_dt)[:,0]),np.mean(np.array(mccE_ert)[:,0]),np.mean(np.array(mccE_knn)[:,0]),np.mean(np.array(mccE_rf)[:,0]),np.mean(np.array(mccE_svm)[:,0]),np.mean(np.array(mccE_xgb)[:,0])],\n",
    "})\n",
    "\n",
    "################################################################\n",
    "models_cowpox.to_excel(f'5foldCV_cowpox_{feature}.xlsx', index=False)\n",
    "################################################################\n",
    "models_cowpox"
   ]
  },
  {
   "cell_type": "code",
   "execution_count": null,
   "id": "9d039e5e",
   "metadata": {
    "scrolled": true
   },
   "outputs": [],
   "source": [
    "### Monkeypox\n",
    "models_monkeypox = pd.DataFrame({\n",
    "    'Model': ['DT','ERT','KNN','RF','SVM','XGB'],\n",
    "    'Sen' : [np.mean(np.array(sen_dt)[:,1]),np.mean(np.array(sen_ert)[:,1]),np.mean(np.array(sen_knn)[:,1]),np.mean(np.array(sen_rf)[:,1]),np.mean(np.array(sen_svm)[:,1]),np.mean(np.array(sen_xgb)[:,1])],\n",
    "    'Spec': [np.mean(np.array(spec_dt)[:,1]),np.mean(np.array(spec_ert)[:,1]),np.mean(np.array(spec_knn)[:,1]),np.mean(np.array(spec_rf)[:,1]),np.mean(np.array(spec_svm)[:,1]),np.mean(np.array(spec_xgb)[:,1])],\n",
    "    'AUC' : [np.mean(np.array(auc_dt)[:,1]),np.mean(np.array(auc_ert)[:,1]),np.mean(np.array(auc_knn)[:,1]),np.mean(np.array(auc_rf)[:,1]),np.mean(np.array(auc_svm)[:,1]),np.mean(np.array(auc_xgb)[:,1])],\n",
    "    'MCC' : [np.mean(np.array(mccE_dt)[:,1]),np.mean(np.array(mccE_ert)[:,1]),np.mean(np.array(mccE_knn)[:,1]),np.mean(np.array(mccE_rf)[:,1]),np.mean(np.array(mccE_svm)[:,1]),np.mean(np.array(mccE_xgb)[:,1])],\n",
    "})\n",
    "\n",
    "################################################################\n",
    "models_monkeypox.to_excel(f'5foldCV_monkeypox_{feature}.xlsx', index=False)\n",
    "################################################################\n",
    "models_monkeypox"
   ]
  },
  {
   "cell_type": "code",
   "execution_count": null,
   "id": "1f96fa35",
   "metadata": {},
   "outputs": [],
   "source": [
    "###vaccinia\n",
    "models_vaccinia = pd.DataFrame({\n",
    "    'Model': ['DT','ERT','KNN','RF','SVM','XGB'],\n",
    "    'Sen' : [np.mean(np.array(sen_dt)[:,2]),np.mean(np.array(sen_ert)[:,2]),np.mean(np.array(sen_knn)[:,2]),np.mean(np.array(sen_rf)[:,2]),np.mean(np.array(sen_svm)[:,2]),np.mean(np.array(sen_xgb)[:,2])],\n",
    "    'Spec': [np.mean(np.array(spec_dt)[:,2]),np.mean(np.array(spec_ert)[:,2]),np.mean(np.array(spec_knn)[:,2]),np.mean(np.array(spec_rf)[:,2]),np.mean(np.array(spec_svm)[:,2]),np.mean(np.array(spec_xgb)[:,2])],\n",
    "    'AUC' : [np.mean(np.array(auc_dt)[:,2]),np.mean(np.array(auc_ert)[:,2]),np.mean(np.array(auc_knn)[:,2]),np.mean(np.array(auc_rf)[:,2]),np.mean(np.array(auc_svm)[:,2]),np.mean(np.array(auc_xgb)[:,2])],\n",
    "    'MCC' : [np.mean(np.array(mccE_dt)[:,2]),np.mean(np.array(mccE_ert)[:,2]),np.mean(np.array(mccE_knn)[:,2]),np.mean(np.array(mccE_rf)[:,2]),np.mean(np.array(mccE_svm)[:,2]),np.mean(np.array(mccE_xgb)[:,2])],\n",
    "})\n",
    "\n",
    "################################################################\n",
    "models_vaccinia.to_excel(f'5foldCV_vaccinia_{feature}.xlsx', index=False)\n",
    "################################################################\n",
    "models_vaccinia"
   ]
  },
  {
   "cell_type": "code",
   "execution_count": null,
   "id": "6148a7f9",
   "metadata": {},
   "outputs": [],
   "source": [
    "###variola\n",
    "models_variola = pd.DataFrame({\n",
    "    'Model': ['DT','ERT','KNN','RF','SVM','XGB'],\n",
    "    'Sen' : [np.mean(np.array(sen_dt)[:,3]),np.mean(np.array(sen_ert)[:,3]),np.mean(np.array(sen_knn)[:,3]),np.mean(np.array(sen_rf)[:,3]),np.mean(np.array(sen_svm)[:,3]),np.mean(np.array(sen_xgb)[:,3])],\n",
    "    'Spec': [np.mean(np.array(spec_dt)[:,3]),np.mean(np.array(spec_ert)[:,3]),np.mean(np.array(spec_knn)[:,3]),np.mean(np.array(spec_rf)[:,3]),np.mean(np.array(spec_svm)[:,3]),np.mean(np.array(spec_xgb)[:,3])],\n",
    "    'AUC' : [np.mean(np.array(auc_dt)[:,3]),np.mean(np.array(auc_ert)[:,3]),np.mean(np.array(auc_knn)[:,3]),np.mean(np.array(auc_rf)[:,3]),np.mean(np.array(auc_svm)[:,3]),np.mean(np.array(auc_xgb)[:,3])],\n",
    "    'MCC' : [np.mean(np.array(mccE_dt)[:,3]),np.mean(np.array(mccE_ert)[:,3]),np.mean(np.array(mccE_knn)[:,3]),np.mean(np.array(mccE_rf)[:,3]),np.mean(np.array(mccE_svm)[:,3]),np.mean(np.array(mccE_xgb)[:,3])]\n",
    "})\n",
    "\n",
    "################################################################\n",
    "models_variola.to_excel(f'5foldCV_vaccinia_{feature}.xlsx', index=False)\n",
    "################################################################\n",
    "models_variola"
   ]
  },
  {
   "cell_type": "code",
   "execution_count": null,
   "id": "4b8b8aa3",
   "metadata": {},
   "outputs": [],
   "source": [
    "frames = [models_cowpox, models_monkeypox, models_vaccinia, models_variola]\n",
    "\n",
    "DF=pd.concat(frames,keys=['CPXV','MPXV','VACV','VARV'])\n",
    "DF\n",
    "################################################################\n",
    "DF.to_excel(f'5foldCV_4 classes_{feature}.xlsx', index=False)\n",
    "################################################################\n",
    "DF"
   ]
  },
  {
   "cell_type": "code",
   "execution_count": null,
   "id": "b97a7457",
   "metadata": {},
   "outputs": [],
   "source": [
    "###variola\n",
    "modelsT = pd.DataFrame({\n",
    "    'Model': ['DT','ERT','KNN','RF','SVM','XGB'],\n",
    "    'Sen' : [np.mean(np.array(sen_dt)),np.mean(np.array(sen_ert)),np.mean(np.array(sen_knn)),np.mean(np.array(sen_rf)),np.mean(np.array(sen_svm)),np.mean(np.array(sen_xgb))],\n",
    "    'Spec': [np.mean(np.array(spec_dt)),np.mean(np.array(spec_ert)),np.mean(np.array(spec_knn)),np.mean(np.array(spec_rf)),np.mean(np.array(spec_svm)),np.mean(np.array(spec_xgb))],\n",
    "    'AUC' : [np.mean(np.array(auc_dt)),np.mean(np.array(auc_ert)),np.mean(np.array(auc_knn)),np.mean(np.array(auc_rf)),np.mean(np.array(auc_svm)),np.mean(np.array(auc_xgb))],\n",
    "    'MCC' : [np.mean(np.array(mccE_dt)),np.mean(np.array(mccE_ert)),np.mean(np.array(mccE_knn)),np.mean(np.array(mccE_rf)),np.mean(np.array(mccE_svm)),np.mean(np.array(mccE_xgb))],\n",
    "    'Kappa': [mean(kappa_dt),mean(kappa_ert),mean(kappa_knn),mean(kappa_rf),mean(kappa_svm),mean(kappa_xgb)],\n",
    "    'OA' : [ OA_dt, OA_ert, OA_knn, OA_rf, OA_svm, OA_xgb]\n",
    "})\n",
    "\n",
    "################################################################\n",
    "modelsT.to_excel(f'5foldCV_average_{feature}.xlsx', index=False)\n",
    "################################################################\n",
    "modelsT"
   ]
  },
  {
   "cell_type": "code",
   "execution_count": null,
   "id": "009397e2",
   "metadata": {},
   "outputs": [],
   "source": [
    "import pandas as pd\n",
    "valid_y=pd.read_csv(f'valid_y_dt_{feature}.csv',header=None)\n",
    "y_pred_dt=pd.read_csv(f'y_pred_dt_{feature}.csv',header=None)\n",
    "y_pred_ert=pd.read_csv(f'y_pred_ert_{feature}.csv',header=None)\n",
    "y_pred_knn=pd.read_csv(f'y_pred_knn_{feature}.csv',header=None)\n",
    "y_pred_rf=pd.read_csv(f'y_pred_rf_{feature}.csv',header=None)\n",
    "y_pred_svm=pd.read_csv(f'y_pred_svm_{feature}.csv',header=None)\n",
    "y_pred_xgb=pd.read_csv(f'y_pred_xgb_{feature}.csv',header=None)\n",
    "#1DT\n",
    "cnf_matrix=[]\n",
    "cnf_matrix = confusion_matrix(valid_y, y_pred_dt)\n",
    "fp = cnf_matrix.sum(axis=0) - np.diag(cnf_matrix) \n",
    "fn = cnf_matrix.sum(axis=1) - np.diag(cnf_matrix)\n",
    "tp = np.diag(cnf_matrix)\n",
    "tn = cnf_matrix.sum() - (fp + fn + tp)\n",
    "fp1 = fp.astype(float)\n",
    "fn1= fn.astype(float)\n",
    "tp1 = tp.astype(float)\n",
    "tn1 = tn.astype(float)\n",
    "print(cnf_matrix )\n",
    "\n",
    "#2Ert\n",
    "cnf_matrix=[]\n",
    "cnf_matrix = confusion_matrix(valid_y, y_pred_ert)\n",
    "fp = cnf_matrix.sum(axis=0) - np.diag(cnf_matrix) \n",
    "fn = cnf_matrix.sum(axis=1) - np.diag(cnf_matrix)\n",
    "tp = np.diag(cnf_matrix)\n",
    "tn = cnf_matrix.sum() - (fp + fn + tp)\n",
    "fp2 = fp.astype(float)\n",
    "fn2 = fn.astype(float)\n",
    "tp2 = tp.astype(float)\n",
    "tn2 = tn.astype(float)\n",
    "print(cnf_matrix )\n",
    "\n",
    "#3KNN\n",
    "cnf_matrix =[]\n",
    "cnf_matrix =  confusion_matrix(valid_y, y_pred_knn)\n",
    "fp = cnf_matrix.sum(axis=0) - np.diag(cnf_matrix) \n",
    "fn = cnf_matrix.sum(axis=1) - np.diag(cnf_matrix)\n",
    "tp = np.diag(cnf_matrix)\n",
    "tn = cnf_matrix.sum() - (fp + fn + tp)\n",
    "fp3 = fp.astype(float)\n",
    "fn3 = fn.astype(float)\n",
    "tp3 = tp.astype(float)\n",
    "tn3 = tn.astype(float)\n",
    "print(cnf_matrix )\n",
    "\n",
    "#4rf\n",
    "cnf_matrix =[]\n",
    "cnf_matrix = confusion_matrix(valid_y, y_pred_rf)\n",
    "fp = cnf_matrix.sum(axis=0) - np.diag(cnf_matrix) \n",
    "fn = cnf_matrix.sum(axis=1) - np.diag(cnf_matrix)\n",
    "tp = np.diag(cnf_matrix)\n",
    "tn = cnf_matrix.sum() - (fp + fn + tp)\n",
    "fp4 = fp.astype(float)\n",
    "fn4 = fn.astype(float)\n",
    "tp4 = tp.astype(float)\n",
    "tn4 = tn.astype(float)\n",
    "print(cnf_matrix )\n",
    "\n",
    "#5.svm\n",
    "cnf_matrix =[]\n",
    "cnf_matrix = confusion_matrix(valid_y, y_pred_svm)\n",
    "fp = cnf_matrix.sum(axis=0) - np.diag(cnf_matrix) \n",
    "fn = cnf_matrix.sum(axis=1) - np.diag(cnf_matrix)\n",
    "tp = np.diag(cnf_matrix)\n",
    "tn = cnf_matrix.sum() - (fp + fn + tp)\n",
    "fp5 = fp.astype(float)\n",
    "fn5 = fn.astype(float)\n",
    "tp5 = tp.astype(float)\n",
    "tn5 = tn.astype(float)\n",
    "print(cnf_matrix )\n",
    "\n",
    "#6.xgb\n",
    "cnf_matrix =[]\n",
    "cnf_matrix = confusion_matrix(valid_y, y_pred_xgb)\n",
    "fp = cnf_matrix.sum(axis=0) - np.diag(cnf_matrix) \n",
    "fn = cnf_matrix.sum(axis=1) - np.diag(cnf_matrix)\n",
    "tp = np.diag(cnf_matrix)\n",
    "tn = cnf_matrix.sum() - (fp + fn + tp)\n",
    "fp6 = fp.astype(float)\n",
    "fn6 = fn.astype(float)\n",
    "tp6 = tp.astype(float)\n",
    "tn6 = tn.astype(float)\n",
    "print(cnf_matrix )\n",
    "\n",
    "\n",
    "tpx=[tp1,tp2,tp3,tp4,tp5,tp6]\n",
    "print(tpx)\n",
    "np.savetxt(f\"Tp_5foldCV_{feature}.csv\", tpx, delimiter=\",\")\n",
    "\n",
    "tnx=[tn1,tn2,tn3,tn4,tn5,tn6]\n",
    "np.savetxt(f\"Tn_5foldCV_{feature}.csv\", tnx, delimiter=\",\")\n",
    "print(tnx)\n",
    "\n",
    "fpx=[fp1,fp2,fp3,fp4,fp5,fp6]\n",
    "np.savetxt(f\"Fp_5foldCV_{feature}.csv\", fpx, delimiter=\",\")\n",
    "print(fpx)\n",
    "\n",
    "fnx=[fn1,fn2,fn3,fn4,fn5,fn6]\n",
    "np.savetxt(f\"Fn_5foldCV_{feature}.csv\", fnx, delimiter=\",\")\n",
    "print(fnx)"
   ]
  },
  {
   "cell_type": "code",
   "execution_count": null,
   "id": "17cfb346",
   "metadata": {},
   "outputs": [],
   "source": [
    "tpx=[];tnx=[];fpx=[];fnx=[]"
   ]
  },
  {
   "cell_type": "code",
   "execution_count": null,
   "id": "f4c33a88",
   "metadata": {},
   "outputs": [],
   "source": [
    "Fold=[i for i in range(1,6)]\n",
    "Fold"
   ]
  },
  {
   "cell_type": "code",
   "execution_count": null,
   "id": "1f399751",
   "metadata": {},
   "outputs": [],
   "source": [
    "## Kappa multi\n",
    "d1 = {'Fold':Fold,'DT': kappa_dt, 'ERT': kappa_ert, 'KNN': kappa_knn,'RF': kappa_rf, 'SVM': kappa_svm,'XGB': kappa_xgb}\n",
    "\n",
    "df_kappa = pd.concat([pd.Series(v, name=k) for k, v in d1.items()], axis=1)\n",
    "df_kappa.to_csv(f'5foldCV_Kappa_{feature}.csv', index=False)\n",
    "df_kappa"
   ]
  },
  {
   "cell_type": "code",
   "execution_count": null,
   "id": "f2aa8093",
   "metadata": {},
   "outputs": [],
   "source": [
    "## mccE\n",
    "d2 = {'Fold-mccE':Fold,'DT-CPXV': np.array(mccE_dt)[:,0],'DT-MPXV': np.array(mccE_dt)[:,1], 'DT-VACV': np.array(mccE_dt)[:,2],'DT-VARV': np.array(mccE_dt)[:,3], \n",
    "     'ERT-CPXV': np.array(mccE_ert)[:,0],'ERT-MPXV': np.array(mccE_ert)[:,1], 'ERT-VACV': np.array(mccE_ert)[:,2],'ERT-VARV': np.array(mccE_ert)[:,3], \n",
    "     'KNN-CPXV': np.array(mccE_knn)[:,0],'KNN-MPXV': np.array(mccE_knn)[:,1], 'KNN-VACV': np.array(mccE_knn)[:,2],'KNN-VARV': np.array(mccE_knn)[:,3], \n",
    "     'RF-CPXV': np.array(mccE_rf)[:,0],'RF-MPXV': np.array(mccE_rf)[:,1], 'RF-VACV': np.array(mccE_rf)[:,2],'RF-VARV': np.array(mccE_rf)[:,3],  \n",
    "     'SVM-CPXV': np.array(mccE_svm)[:,0],'SVM-MPXV': np.array(mccE_svm)[:,1], 'SVM-VACV': np.array(mccE_svm)[:,2],'SVM-VARV': np.array(mccE_svm)[:,3],\n",
    "     'XGB-CPXV': np.array(mccE_xgb)[:,0],'XGB-MPXV': np.array(mccE_xgb)[:,1], 'XGB-VACV': np.array(mccE_xgb)[:,2],'XGB-VARV': np.array(mccE_xgb)[:,3]}\n",
    "\n",
    "df_mccE = pd.concat([pd.Series(v, name=k) for k, v in d2.items()], axis=1)\n",
    "df_mccE.to_csv(f'5foldCV_mccE_{feature}.csv', index=False)\n",
    "df_mccE"
   ]
  },
  {
   "cell_type": "code",
   "execution_count": null,
   "id": "4526e57b",
   "metadata": {},
   "outputs": [],
   "source": [
    "## sen\n",
    "d3 = {'Fold-sen':Fold,'DT-CPXV': np.array(sen_dt)[:,0],'DT-MPXV': np.array(sen_dt)[:,1], 'DT-VACV': np.array(sen_dt)[:,2],'DT-VARV': np.array(sen_dt)[:,3], \n",
    "     'ERT-CPXV': np.array(sen_ert)[:,0],'ERT-MPXV': np.array(sen_ert)[:,1], 'ERT-VACV': np.array(sen_ert)[:,2],'ERT-VARV': np.array(sen_ert)[:,3], \n",
    "     'KNN-CPXV': np.array(sen_knn)[:,0],'KNN-MPXV': np.array(sen_knn)[:,1], 'KNN-VACV': np.array(sen_knn)[:,2],'KNN-VARV': np.array(sen_knn)[:,3], \n",
    "     'RF-CPXV': np.array(sen_rf)[:,0],'RF-MPXV': np.array(sen_rf)[:,1], 'RF-VACV': np.array(sen_rf)[:,2],'RF-VARV': np.array(sen_rf)[:,3],  \n",
    "     'SVM-CPXV': np.array(sen_svm)[:,0],'SVM-MPXV': np.array(sen_svm)[:,1], 'SVM-VACV': np.array(sen_svm)[:,2],'SVM-VARV': np.array(sen_svm)[:,3],\n",
    "     'XGB-CPXV': np.array(sen_xgb)[:,0],'XGB-MPXV': np.array(sen_xgb)[:,1], 'XGB-VACV': np.array(sen_xgb)[:,2],'XGB-VARV': np.array(sen_xgb)[:,3]}\n",
    "\n",
    "df_sen = pd.concat([pd.Series(v, name=k) for k, v in d3.items()], axis=1)\n",
    "df_sen.to_csv(f'5foldCV_sen_{feature}.csv', index=False)\n",
    "df_sen"
   ]
  },
  {
   "cell_type": "code",
   "execution_count": null,
   "id": "b0c5f72e",
   "metadata": {},
   "outputs": [],
   "source": [
    "## spec\n",
    "d4 = {'Fold-spec':Fold,'DT-CPXV': np.array(spec_dt)[:,0],'DT-MPXV': np.array(spec_dt)[:,1], 'DT-VACV': np.array(spec_dt)[:,2],'DT-VARV': np.array(spec_dt)[:,3],\n",
    "     'ERT-CPXV': np.array(spec_ert)[:,0],'ERT-MPXV': np.array(spec_ert)[:,1], 'ERT-VACV': np.array(spec_ert)[:,2],'ERT-VARV': np.array(spec_ert)[:,3], \n",
    "     'KNN-CPXV': np.array(spec_knn)[:,0],'KNN-MPXV': np.array(spec_knn)[:,1], 'KNN-VACV': np.array(spec_knn)[:,2],'KNN-VARV': np.array(spec_knn)[:,3], \n",
    "     'RF-CPXV': np.array(spec_rf)[:,0],'RF-MPXV': np.array(spec_rf)[:,1], 'RF-VACV': np.array(spec_rf)[:,2],'RF-VARV': np.array(spec_rf)[:,3],  \n",
    "     'SVM-CPXV': np.array(spec_svm)[:,0],'SVM-MPXV': np.array(spec_svm)[:,1], 'SVM-VACV': np.array(spec_svm)[:,2],'SVM-VARV': np.array(spec_svm)[:,3],\n",
    "     'XGB-CPXV': np.array(spec_xgb)[:,0],'XGB-MPXV': np.array(spec_xgb)[:,1], 'XGB-VACV': np.array(spec_xgb)[:,2],'XGB-VARV': np.array(spec_xgb)[:,3]}\n",
    "\n",
    "df_spec = pd.concat([pd.Series(v, name=k) for k, v in d4.items()], axis=1)\n",
    "df_spec.to_csv(f'5foldCV_spec_{feature}.csv', index=False)\n",
    "df_spec"
   ]
  },
  {
   "cell_type": "code",
   "execution_count": null,
   "id": "31d1cdf4",
   "metadata": {},
   "outputs": [],
   "source": [
    "## auc\n",
    "d = {'Fold-auc':Fold,'DT-CPXV': np.array(auc_dt)[:,0],'DT-MPXV': np.array(auc_dt)[:,1], 'DT-VACV': np.array(auc_dt)[:,2],'DT-VARV': np.array(auc_dt)[:,3], \n",
    "      'ERT-CPXV': np.array(auc_ert)[:,0],'ERT-MPXV': np.array(auc_ert)[:,1], 'ERT-VACV': np.array(auc_ert)[:,2],'ERT-VARV': np.array(auc_ert)[:,3], \n",
    "     'KNN-CPXV': np.array(auc_knn)[:,0],'KNN-MPXV': np.array(auc_knn)[:,1], 'KNN-VACV': np.array(auc_knn)[:,2],'KNN-VARV': np.array(auc_knn)[:,3], \n",
    "     'RF-CPXV': np.array(auc_rf)[:,0],'RF-MPXV': np.array(auc_rf)[:,1], 'RF-VACV': np.array(auc_rf)[:,2],'RF-VARV': np.array(auc_rf)[:,3],  \n",
    "     'SVM-CPXV': np.array(auc_svm)[:,0],'SVM-MPXV': np.array(auc_svm)[:,1], 'SVM-VACV': np.array(auc_svm)[:,2],'SVM-VARV': np.array(auc_svm)[:,3],\n",
    "     'XGB-CPXV': np.array(auc_xgb)[:,0],'XGB-MPXV': np.array(auc_xgb)[:,1], 'XGB-VACV': np.array(auc_xgb)[:,2],'XGB-VARV': np.array(auc_xgb)[:,3]}\n",
    "\n",
    "df_auc = pd.concat([pd.Series(v, name=k) for k, v in d.items()], axis=1)\n",
    "df_auc.to_csv(f'5foldCV_auc_{feature}.csv', index=False)\n",
    "df_auc"
   ]
  },
  {
   "cell_type": "code",
   "execution_count": null,
   "id": "a1ceac1a",
   "metadata": {},
   "outputs": [],
   "source": [
    "## tp\n",
    "d6 = {'Fold-tp':Fold,'DT-CPXV': np.array(tp_dt)[:,0],'DT-MPXV': np.array(tp_dt)[:,1], 'DT-VACV': np.array(tp_dt)[:,2],'DT-VARV': np.array(tp_dt)[:,3], \n",
    "     'ERT-CPXV': np.array(tp_ert)[:,0],'ERT-MPXV': np.array(tp_ert)[:,1], 'ERT-VACV': np.array(tp_ert)[:,2],'ERT-VARV': np.array(tp_ert)[:,3],\n",
    "     'KNN-CPXV': np.array(tp_knn)[:,0],'KNN-MPXV': np.array(tp_knn)[:,1], 'KNN-VACV': np.array(tp_knn)[:,2],'KNN-VARV': np.array(tp_knn)[:,3], \n",
    "     'RF-CPXV': np.array(tp_rf)[:,0],'RF-MPXV': np.array(tp_rf)[:,1], 'RF-VACV': np.array(tp_rf)[:,2],'RF-VARV': np.array(tp_rf)[:,3],  \n",
    "     'SVM-CPXV': np.array(tp_svm)[:,0],'SVM-MPXV': np.array(tp_svm)[:,1], 'SVM-VACV': np.array(tp_svm)[:,2],'SVM-VARV': np.array(tp_svm)[:,3],\n",
    "     'XGB-CPXV': np.array(tp_xgb)[:,0],'XGB-MPXV': np.array(tp_xgb)[:,1], 'XGB-VACV': np.array(tp_xgb)[:,2],'XGB-VARV': np.array(tp_xgb)[:,3]}\n",
    "\n",
    "df_tp = pd.concat([pd.Series(v, name=k) for k, v in d6.items()], axis=1)\n",
    "df_tp.to_csv(f'5foldCV_tp_{feature}.csv', index=False)\n",
    "df_tp"
   ]
  },
  {
   "cell_type": "code",
   "execution_count": null,
   "id": "df875722",
   "metadata": {},
   "outputs": [],
   "source": [
    "## acc multi\n",
    "d7 = {'Fold-acc-multi':Fold,'DT-CPXV': np.array(acc_dt),'DT-MPXV': np.array(acc_dt), 'DT-VACV': np.array(acc_dt),'DT-VARV': np.array(acc_dt), \n",
    "     'ERT-CPXV': np.array(acc_ert),'ERT-MPXV': np.array(acc_ert), 'ERT-VACV': np.array(acc_ert),'ERT-VARV': np.array(acc_ert), \n",
    "     'KNN-CPXV': np.array(acc_knn),'KNN-MPXV': np.array(acc_knn), 'KNN-VACV': np.array(acc_knn),'KNN-VARV': np.array(acc_knn), \n",
    "     'RF-CPXV': np.array(acc_rf),'RF-MPXV': np.array(acc_rf), 'RF-VACV': np.array(acc_rf),'RF-VARV': np.array(acc_rf),  \n",
    "     'SVM-CPXV': np.array(acc_svm),'SVM-MPXV': np.array(acc_svm), 'SVM-VACV': np.array(acc_svm),'SVM-VARV': np.array(acc_svm),\n",
    "     'XGB-CPXV': np.array(acc_xgb),'XGB-MPXV': np.array(acc_xgb), 'XGB-VACV': np.array(acc_xgb),'XGB-VARV': np.array(acc_xgb)}\n",
    "\n",
    "df_acc = pd.concat([pd.Series(v, name=k) for k, v in d7.items()], axis=1)\n",
    "df_acc.to_csv(f'5foldCV_acc_{feature}.csv', index=False)\n",
    "df_acc"
   ]
  },
  {
   "cell_type": "code",
   "execution_count": null,
   "id": "7c1b1ea0",
   "metadata": {},
   "outputs": [],
   "source": [
    "def findmean(list_of_lists):\n",
    "    row_average = [np.sum(sub_list) / len(sub_list) for sub_list in list_of_lists]\n",
    "    return row_average"
   ]
  },
  {
   "cell_type": "code",
   "execution_count": null,
   "id": "62a57f18",
   "metadata": {},
   "outputs": [],
   "source": [
    "d8={'Fold':Fold,'DT_mccE':findmean(mccE_dt),'ERT_mccE':findmean(mccE_ert),'KNN_mccE':findmean(mccE_knn),'RF_mccE':findmean(mccE_rf),'SVM_mccE':findmean(mccE_svm),'XGB_mccE':findmean(mccE_xgb)}\n",
    "df_8 = pd.concat([pd.Series(v, name=k) for k, v in d8.items()], axis=1)\n",
    "df_8.to_csv(f'Each5foldCV_mean_mccE_{feature}.csv', index=False)\n",
    "df_8"
   ]
  },
  {
   "cell_type": "code",
   "execution_count": null,
   "id": "35b683a8",
   "metadata": {},
   "outputs": [],
   "source": [
    "d9={'Fold':Fold,'DT_sen':findmean(sen_dt),'ERT_sen':findmean(sen_ert),'KNN_sen':findmean(sen_knn),'RF_sen':findmean(sen_rf)\\\n",
    "    ,'SVM_sen':findmean(sen_svm),'XGB_sen':findmean(sen_xgb)}\n",
    "df_9 = pd.concat([pd.Series(v, name=k) for k, v in d9.items()], axis=1)\n",
    "df_9.to_csv(f'Each5foldCV_mean_sen_{feature}.csv', index=False)\n",
    "df_9"
   ]
  },
  {
   "cell_type": "code",
   "execution_count": null,
   "id": "6124d466",
   "metadata": {},
   "outputs": [],
   "source": [
    "d10={'Fold':Fold,'DT_spec':findmean(spec_dt),'ERT_spec':findmean(spec_ert),'KNN_spec':findmean(spec_knn),'RF_spec':findmean(spec_rf),\\\n",
    "     'SVM_spec':findmean(spec_svm),'XGB_spec':findmean(spec_xgb)}\n",
    "df_10 = pd.concat([pd.Series(v, name=k) for k, v in d10.items()], axis=1)\n",
    "df_10.to_csv(f'Each5foldCV_mean_spec_{feature}.csv', index=False)\n",
    "df_10"
   ]
  },
  {
   "cell_type": "code",
   "execution_count": null,
   "id": "93ccd4c9",
   "metadata": {},
   "outputs": [],
   "source": [
    "d11={'Fold':Fold,'DT_auc':findmean(auc_dt),'ERT_auc':findmean(auc_ert),'KNN_auc':findmean(auc_knn),'RF_auc':findmean(auc_rf),\\\n",
    "     'SVM_auc':findmean(auc_svm),'XGB_auc':findmean(auc_xgb)}\n",
    "\n",
    "df_11 = pd.concat([pd.Series(v, name=k) for k, v in d11.items()], axis=1)\n",
    "df_11.to_csv(f'Each5foldCV_mean_auc_{feature}.csv', index=False)\n",
    "df_11"
   ]
  },
  {
   "cell_type": "code",
   "execution_count": null,
   "id": "6555110e",
   "metadata": {},
   "outputs": [],
   "source": [
    "del df_kappa,df_mccE,df_sen,df_spec,df_auc,df_tp,df_acc,df_8,df_9,df_10,df_11,models_cowpox,models_monkeypox,models_vaccinia,DF,modelsT"
   ]
  },
  {
   "cell_type": "markdown",
   "id": "6ba40f24",
   "metadata": {},
   "source": [
    "# Independent"
   ]
  },
  {
   "cell_type": "code",
   "execution_count": null,
   "id": "e8df843f",
   "metadata": {},
   "outputs": [],
   "source": [
    "acc_dt =[];sen_dt =[];spec_dt =[];mccE_dt=[];tp_dt =[];tn_dt=[];fp_dt =[];fn_dt =[];kappa_dt=[];mccv_dt=[];OA_dt=[];prediction_result_dt=[];\n",
    "acc_ert =[];sen_ert =[];spec_ert =[];mccE_ert=[];tp_ert =[];tn_ert=[];fp_ert =[];fn_ert =[];kappa_ert=[];mccv_ert=[];OA_ert=[];prediction_result_ert=[];\n",
    "acc_knn =[];sen_knn =[];spec_knn =[];mccE_knn=[];tp_knn =[];tn_knn=[];fp_knn =[];fn_knn =[];kappa_knn=[];mccv_knn=[];OA_knn=[];prediction_result_knn=[];\n",
    "acc_mlp =[];sen_mlp =[];spec_mlp =[];mccE_mlp=[];tp_mlp =[];tn_mlp=[];fp_mlp =[];fn_mlp =[];kappa_mlp=[];mccv_mlp=[];OA_mlp=[];prediction_result_mlp=[];\n",
    "acc_nb =[];sen_nb =[];spec_nb =[];mccE_nb=[];tp_nb =[];tn_nb=[];fp_nb =[];fn_nb =[];kappa_nb=[];mccv_nb=[];OA_nb=[];prediction_result_nb=[];\n",
    "acc_rf =[];sen_rf =[];spec_rf =[];mccE_rf=[];tp_rf =[];tn_rf=[];fp_rf =[];fn_rf =[];kappa_rf=[];mccv_rf=[];OA_rf=[];prediction_result_rf=[];\n",
    "acc_svc =[];sen_svc =[];spec_svc =[];mccE_svc=[];tp_svc =[];tn_svc=[];fp_svc =[];fn_svc =[];kappa_svc=[];mccv_svc=[];OA_svc=[];prediction_result_svc=[];\n",
    "acc_xgb =[];sen_xgb =[];spec_xgb =[];mccE_xgb=[];tp_xgb =[];tn_xgb=[];fp_xgb =[];fn_xgb =[];kappa_xgb=[];mccv_xgb=[];OA_xgb=[];prediction_result_xgb=[];"
   ]
  },
  {
   "cell_type": "code",
   "execution_count": null,
   "id": "e01cd0a4",
   "metadata": {},
   "outputs": [],
   "source": [
    "def performance_ind(model,X,y,X_in,y_in):\n",
    "    prediction_result=[]\n",
    "    labels, cnt = np.unique(y,return_counts=True)\n",
    "    n_classes = len(labels)\n",
    "    \n",
    "    model.fit(X,y)\n",
    "    scores = model.predict_proba(X_in)\n",
    "    y_pred = model.predict(X_in)\n",
    "    ### measurement matrices\n",
    "    acc  = metrics.accuracy_score(y_in, y_pred)\n",
    "    perm = performance(y_in, y_pred)\n",
    "    sen  = perm[1]\n",
    "    spec = perm[2]\n",
    "    mccE = perm[3]\n",
    "    tp   = perm[4]\n",
    "    tn   = perm[5]\n",
    "    fp   = perm[6]\n",
    "    fn   = perm[7]\n",
    "    ### roc_auc\n",
    "    dims=y_in.shape[0]\n",
    "    y_reshape=y_in.values.reshape(dims,)\n",
    "    tpr,fpr,auc= roc_auc(\n",
    "    y_true= y_reshape, \n",
    "    y_pred= y_pred, \n",
    "    y_score= scores)\n",
    "    ## measure multi-class\n",
    "    kappa = cohen_kappa_score(y_in, y_pred)\n",
    "    mccv  = mcc(y_in, y_pred)\n",
    "    OA=np.sum(tp)/dims\n",
    "    tmp_result = np.zeros((len(y_in), n_classes + 2))\n",
    "    tmp_result[:, 0],tmp_result[:, 1], tmp_result[:, 2:] = y_reshape, y_pred, scores\n",
    "    prediction_result.append(tmp_result)\n",
    "    return acc, sen, spec,auc,mccE,tp, tn,fp,fn, kappa, mccv,OA, prediction_result"
   ]
  },
  {
   "cell_type": "code",
   "execution_count": null,
   "id": "a997a7c7",
   "metadata": {},
   "outputs": [],
   "source": [
    "print(X.shape)\n",
    "print(X_i.shape)"
   ]
  },
  {
   "cell_type": "code",
   "execution_count": null,
   "id": "9bd1846e",
   "metadata": {},
   "outputs": [],
   "source": [
    "acc_dt, sen_dt, spec_dt,auc_dt,mccE_dt,tp_dt, tn_dt,fp_dt,fn_dt,kappa_dt, mccv_dt,OA_dt, prediction_result_dt=performance_ind(model_dt,X,y,X_i,y_i)\n",
    "acc_ert, sen_ert, spec_ert,auc_ert,mccE_ert,tp_ert, tn_ert,fp_ert,fn_ert,kappa_ert, mccv_ert,OA_ert, prediction_result_ert=performance_ind(model_ert,X,y,X_i,y_i)\n",
    "acc_knn, sen_knn, spec_knn,auc_knn,mccE_knn,tp_knn, tn_knn,fp_knn,fn_knn,kappa_knn, mccv_knn,OA_knn, prediction_result_knn=performance_ind(model_knn,X,y,X_i,y_i)\n",
    "acc_rf, sen_rf, spec_rf,auc_rf,mccE_rf,tp_rf, tn_rf,fp_rf,fn_rf,kappa_rf, mccv_rf,OA_rf, prediction_result_rf=performance_ind(model_rf,X,y,X_i,y_i)\n",
    "acc_svm, sen_svm, spec_svm,auc_svm,mccE_svm,tp_svm, tn_svm,fp_svm,fn_svm,kappa_svm, mccv_svm,OA_svm, prediction_result_svm=performance_ind(model_svm,X,y,X_i,y_i)\n",
    "acc_xgb, sen_xgb, spec_xgb,auc_xgb,mccE_xgb,tp_xgb, tn_xgb,fp_xgb,fn_xgb,kappa_xgb, mccv_xgb,OA_xgb, prediction_result_xgb=performance_ind(model_xgb,X,y,X_i,y_i)"
   ]
  },
  {
   "cell_type": "code",
   "execution_count": null,
   "id": "ec48aa22",
   "metadata": {},
   "outputs": [],
   "source": [
    "def write_reportin(prediction_result,model):\n",
    "    \n",
    "    valid_y_model=[]\n",
    "    y_pred_model=[]\n",
    "\n",
    "    for i in range(1):\n",
    "        for j in range(len(prediction_result[i][:,0])):\n",
    "            add = prediction_result[i][:,0][j]\n",
    "            add = add.astype(int)\n",
    "            valid_y_model.append(add)\n",
    "            addx = prediction_result[i][:,1][j]\n",
    "            addx = addx.astype(int)\n",
    "            y_pred_model.append(addx)\n",
    "\n",
    "    y_score_model=[]\n",
    "    for i in range(1):\n",
    "        for j in range(len(prediction_result[i][:,2:])):\n",
    "            add_app=[]\n",
    "            for k in range(4):\n",
    "                addy = prediction_result[i][:,2:][j][k]\n",
    "                addy = addy.astype(float)\n",
    "                add_app.append(addy)\n",
    "            y_score_model.append(add_app)\n",
    "    np.savetxt(f\"score_{model}.csv\",y_score_model,delimiter =\", \",)\n",
    "    np.savetxt(f\"valid_y_{model}.csv\",valid_y_model,delimiter =\", \",)\n",
    "    np.savetxt(f\"y_pred_{model}.csv\",y_pred_model,delimiter =\", \",)\n",
    "    return "
   ]
  },
  {
   "cell_type": "code",
   "execution_count": null,
   "id": "520b8a0e",
   "metadata": {},
   "outputs": [],
   "source": [
    "paths='/home/admin1/Downloads/OPVpred_upload/src/Model/Independent'"
   ]
  },
  {
   "cell_type": "code",
   "execution_count": null,
   "id": "656ca29d",
   "metadata": {},
   "outputs": [],
   "source": [
    "write_reportin(prediction_result_dt,f'dt_independent_{feature}')\n",
    "write_reportin(prediction_result_ert,f'ert_independent_{feature}')\n",
    "write_reportin(prediction_result_knn,f'knn_independent_{feature}')\n",
    "write_reportin(prediction_result_rf,f'rf_independent_{feature}')\n",
    "write_reportin(prediction_result_svm,f'svm_independent_{feature}')\n",
    "write_reportin(prediction_result_xgb,f'xgb_independent_{feature}')"
   ]
  },
  {
   "cell_type": "code",
   "execution_count": null,
   "id": "f61c1066",
   "metadata": {},
   "outputs": [],
   "source": [
    "### Cowpox\n",
    "models_cowpox = pd.DataFrame({\n",
    "    'Model': ['DT','ERT','KNN','RF','SVM','XGB'],\n",
    "    'Sen' : [np.mean(np.array(sen_dt)[0]),np.mean(np.array(sen_ert)[0]),np.mean(np.array(sen_knn)[0]),np.mean(np.array(sen_rf)[0]),np.mean(np.array(sen_svm)[0]),np.mean(np.array(sen_xgb)[0])],\n",
    "    'Spec': [np.mean(np.array(spec_dt)[0]),np.mean(np.array(spec_ert)[0]),np.mean(np.array(spec_knn)[0]),np.mean(np.array(spec_rf)[0]),np.mean(np.array(spec_svm)[0]),np.mean(np.array(spec_xgb)[0])],\n",
    "    'AUC' : [np.mean(np.array(auc_dt)[0]),np.mean(np.array(auc_ert)[0]),np.mean(np.array(auc_knn)[0]),np.mean(np.array(auc_rf)[0]),np.mean(np.array(auc_svm)[0]),np.mean(np.array(auc_xgb)[0])],\n",
    "    'MCC' : [np.mean(np.array(mccE_dt)[0]),np.mean(np.array(mccE_ert)[0]),np.mean(np.array(mccE_knn)[0]),np.mean(np.array(mccE_rf)[0]),np.mean(np.array(mccE_svm)[0]),np.mean(np.array(mccE_xgb)[0])],\n",
    "})\n",
    "\n",
    "################################################################\n",
    "models_cowpox.to_excel(f'{paths}/Independent_cowpox_{feature}.xlsx', index=False)\n",
    "################################################################\n",
    "models_cowpox"
   ]
  },
  {
   "cell_type": "code",
   "execution_count": null,
   "id": "aa431677",
   "metadata": {},
   "outputs": [],
   "source": [
    "### Monkeypox\n",
    "models_monkeypox = pd.DataFrame({\n",
    "    'Model': ['DT','ERT','KNN','RF','SVM','XGB'],\n",
    "    'Sen' : [np.mean(np.array(sen_dt)[1]),np.mean(np.array(sen_ert)[1]),np.mean(np.array(sen_knn)[1]),np.mean(np.array(sen_rf)[1]),np.mean(np.array(sen_svm)[1]),np.mean(np.array(sen_xgb)[1])],\n",
    "    'Spec': [np.mean(np.array(spec_dt)[1]),np.mean(np.array(spec_ert)[1]),np.mean(np.array(spec_knn)[1]),np.mean(np.array(spec_rf)[1]),np.mean(np.array(spec_svm)[1]),np.mean(np.array(spec_xgb)[1])],\n",
    "    'AUC' : [np.mean(np.array(auc_dt)[1]),np.mean(np.array(auc_ert)[1]),np.mean(np.array(auc_knn)[1]),np.mean(np.array(auc_rf)[1]),np.mean(np.array(auc_svm)[1]),np.mean(np.array(auc_xgb)[1])],\n",
    "    'MCC' : [np.mean(np.array(mccE_dt)[1]),np.mean(np.array(mccE_ert)[1]),np.mean(np.array(mccE_knn)[1]),np.mean(np.array(mccE_rf)[1]),np.mean(np.array(mccE_svm)[1]),np.mean(np.array(mccE_xgb)[1])],\n",
    "})\n",
    "\n",
    "################################################################\n",
    "models_monkeypox.to_excel(f'{paths}/Independent_monkeypox_{feature}.xlsx', index=False)\n",
    "################################################################\n",
    "models_monkeypox"
   ]
  },
  {
   "cell_type": "code",
   "execution_count": null,
   "id": "5b84c501",
   "metadata": {},
   "outputs": [],
   "source": [
    "###vaccinia\n",
    "models_vaccinia = pd.DataFrame({\n",
    "    'Model': ['DT','ERT','KNN','RF','SVM','XGB'],\n",
    "    'Sen' : [np.mean(np.array(sen_dt)[2]),np.mean(np.array(sen_ert)[2]),np.mean(np.array(sen_knn)[2]),np.mean(np.array(sen_rf)[2]),np.mean(np.array(sen_svm)[2]),np.mean(np.array(sen_xgb)[2])],\n",
    "    'Spec': [np.mean(np.array(spec_dt)[2]),np.mean(np.array(spec_ert)[2]),np.mean(np.array(spec_knn)[2]),np.mean(np.array(spec_rf)[2]),np.mean(np.array(spec_svm)[2]),np.mean(np.array(spec_xgb)[2])],\n",
    "    'AUC' : [np.mean(np.array(auc_dt)[2]),np.mean(np.array(auc_ert)[2]),np.mean(np.array(auc_knn)[2]),np.mean(np.array(auc_rf)[2]),np.mean(np.array(auc_svm)[2]),np.mean(np.array(auc_xgb)[2])],\n",
    "    'MCC' : [np.mean(np.array(mccE_dt)[2]),np.mean(np.array(mccE_ert)[2]),np.mean(np.array(mccE_knn)[2]),np.mean(np.array(mccE_rf)[2]),np.mean(np.array(mccE_svm)[2]),np.mean(np.array(mccE_xgb)[2])],\n",
    "})\n",
    "\n",
    "################################################################\n",
    "models_vaccinia.to_excel(f'{paths}/Independent_vaccinia_{feature}.xlsx', index=False)\n",
    "################################################################\n",
    "models_vaccinia"
   ]
  },
  {
   "cell_type": "code",
   "execution_count": null,
   "id": "986b4902",
   "metadata": {},
   "outputs": [],
   "source": [
    "###variola\n",
    "models_variola = pd.DataFrame({\n",
    "    'Model': ['DT','ERT','KNN','RF','SVM','XGB'],\n",
    "    'Sen' : [np.mean(np.array(sen_dt)[3]),np.mean(np.array(sen_ert)[3]),np.mean(np.array(sen_knn)[3]),np.mean(np.array(sen_rf)[3]),np.mean(np.array(sen_svm)[3]),np.mean(np.array(sen_xgb)[3])],\n",
    "    'Spec': [np.mean(np.array(spec_dt)[3]),np.mean(np.array(spec_ert)[3]),np.mean(np.array(spec_knn)[3]),np.mean(np.array(spec_rf)[3]),np.mean(np.array(spec_svm)[3]),np.mean(np.array(spec_xgb)[3])],\n",
    "    'AUC' : [np.mean(np.array(auc_dt)[3]),np.mean(np.array(auc_ert)[3]),np.mean(np.array(auc_knn)[3]),np.mean(np.array(auc_rf)[3]),np.mean(np.array(auc_svm)[3]),np.mean(np.array(auc_xgb)[3])],\n",
    "    'MCC' : [np.mean(np.array(mccE_dt)[3]),np.mean(np.array(mccE_ert)[3]),np.mean(np.array(mccE_knn)[3]),np.mean(np.array(mccE_rf)[3]),np.mean(np.array(mccE_svm)[3]),np.mean(np.array(mccE_xgb)[3])],\n",
    "})\n",
    "\n",
    "################################################################\n",
    "models_variola.to_excel(f'{paths}/Independent_vaccinia_{feature}.xlsx', index=False)\n",
    "################################################################\n",
    "models_variola"
   ]
  },
  {
   "cell_type": "code",
   "execution_count": null,
   "id": "e86276f7",
   "metadata": {},
   "outputs": [],
   "source": [
    "frames = [models_cowpox, models_monkeypox, models_vaccinia, models_variola]\n",
    "\n",
    "DF=pd.concat(frames,keys=['CPXV','MPXV','VACV','VARV'])\n",
    "DF\n",
    "################################################################\n",
    "DF.to_excel(f'{paths}/Independent_4 classes_{feature}.xlsx',index=False)\n",
    "################################################################\n",
    "DF"
   ]
  },
  {
   "cell_type": "code",
   "execution_count": null,
   "id": "4a4cd695",
   "metadata": {},
   "outputs": [],
   "source": [
    "###variola\n",
    "modelsT = pd.DataFrame({\n",
    "    'Model': ['DT','ERT','KNN','RF','SVM','XGB'],\n",
    "    'Sen' : [np.mean(np.array(sen_dt)),np.mean(np.array(sen_ert)),np.mean(np.array(sen_knn)),np.mean(np.array(sen_rf)),np.mean(np.array(sen_svm)),np.mean(np.array(sen_xgb))],\n",
    "    'Spec': [np.mean(np.array(spec_dt)),np.mean(np.array(spec_ert)),np.mean(np.array(spec_knn)),np.mean(np.array(spec_rf)),np.mean(np.array(spec_svm)),np.mean(np.array(spec_xgb))],\n",
    "    'AUC' : [np.mean(np.array(auc_dt)),np.mean(np.array(auc_ert)),np.mean(np.array(auc_knn)),np.mean(np.array(auc_rf)),np.mean(np.array(auc_svm)),np.mean(np.array(auc_xgb))],\n",
    "    'MCC' : [np.mean(np.array(mccE_dt)),np.mean(np.array(mccE_ert)),np.mean(np.array(mccE_knn)),np.mean(np.array(mccE_rf)),np.mean(np.array(mccE_svm)),np.mean(np.array(mccE_xgb))],\n",
    "    'Kappa': [kappa_dt,kappa_ert,kappa_knn,kappa_rf,kappa_svm,kappa_xgb],\n",
    "    'OA' : [ OA_dt,OA_ert, OA_knn, OA_rf, OA_svm, OA_xgb],\n",
    "})\n",
    "\n",
    "################################################################\n",
    "modelsT.to_excel(f'{paths}/Independent_average_{feature}.xlsx', index=False)\n",
    "################################################################\n",
    "modelsT"
   ]
  },
  {
   "cell_type": "code",
   "execution_count": null,
   "id": "fc59d19e",
   "metadata": {},
   "outputs": [],
   "source": [
    "import pandas as pd\n",
    "valid_y=pd.read_csv(f'valid_y_dt_independent_{feature}.csv',header=None)\n",
    "y_pred_dt=pd.read_csv(f'y_pred_dt_independent_{feature}.csv',header=None)\n",
    "y_pred_ert=pd.read_csv(f'y_pred_ert_independent_{feature}.csv',header=None)\n",
    "y_pred_knn=pd.read_csv(f'y_pred_knn_independent_{feature}.csv',header=None)\n",
    "y_pred_rf=pd.read_csv(f'y_pred_rf_independent_{feature}.csv',header=None)\n",
    "y_pred_svm=pd.read_csv(f'y_pred_svm_independent_{feature}.csv',header=None)\n",
    "y_pred_xgb=pd.read_csv(f'y_pred_xgb_independent_{feature}.csv',header=None)\n",
    "\n",
    "#1DT\n",
    "cnf_matrix=[]\n",
    "cnf_matrix = confusion_matrix(valid_y, y_pred_dt)\n",
    "fp = cnf_matrix.sum(axis=0) - np.diag(cnf_matrix) \n",
    "fn = cnf_matrix.sum(axis=1) - np.diag(cnf_matrix)\n",
    "tp = np.diag(cnf_matrix)\n",
    "tn = cnf_matrix.sum() - (fp + fn + tp)\n",
    "fp1 = fp.astype(float)\n",
    "fn1= fn.astype(float)\n",
    "tp1 = tp.astype(float)\n",
    "tn1 = tn.astype(float)\n",
    "print(cnf_matrix )\n",
    "\n",
    "#2Ert\n",
    "cnf_matrix=[]\n",
    "cnf_matrix = confusion_matrix(valid_y, y_pred_ert)\n",
    "fp = cnf_matrix.sum(axis=0) - np.diag(cnf_matrix) \n",
    "fn = cnf_matrix.sum(axis=1) - np.diag(cnf_matrix)\n",
    "tp = np.diag(cnf_matrix)\n",
    "tn = cnf_matrix.sum() - (fp + fn + tp)\n",
    "fp2 = fp.astype(float)\n",
    "fn2 = fn.astype(float)\n",
    "tp2 = tp.astype(float)\n",
    "tn2 = tn.astype(float)\n",
    "print(cnf_matrix )\n",
    "\n",
    "#3KNN\n",
    "cnf_matrix =[]\n",
    "cnf_matrix =  confusion_matrix(valid_y, y_pred_knn)\n",
    "fp = cnf_matrix.sum(axis=0) - np.diag(cnf_matrix) \n",
    "fn = cnf_matrix.sum(axis=1) - np.diag(cnf_matrix)\n",
    "tp = np.diag(cnf_matrix)\n",
    "tn = cnf_matrix.sum() - (fp + fn + tp)\n",
    "fp3 = fp.astype(float)\n",
    "fn3 = fn.astype(float)\n",
    "tp3 = tp.astype(float)\n",
    "tn3 = tn.astype(float)\n",
    "print(cnf_matrix )\n",
    "\n",
    "#4rf\n",
    "cnf_matrix =[]\n",
    "cnf_matrix = confusion_matrix(valid_y, y_pred_rf)\n",
    "fp = cnf_matrix.sum(axis=0) - np.diag(cnf_matrix) \n",
    "fn = cnf_matrix.sum(axis=1) - np.diag(cnf_matrix)\n",
    "tp = np.diag(cnf_matrix)\n",
    "tn = cnf_matrix.sum() - (fp + fn + tp)\n",
    "fp4 = fp.astype(float)\n",
    "fn4 = fn.astype(float)\n",
    "tp4 = tp.astype(float)\n",
    "tn4 = tn.astype(float)\n",
    "print(cnf_matrix )\n",
    "\n",
    "#5.svm\n",
    "cnf_matrix =[]\n",
    "cnf_matrix = confusion_matrix(valid_y, y_pred_svm)\n",
    "fp = cnf_matrix.sum(axis=0) - np.diag(cnf_matrix) \n",
    "fn = cnf_matrix.sum(axis=1) - np.diag(cnf_matrix)\n",
    "tp = np.diag(cnf_matrix)\n",
    "tn = cnf_matrix.sum() - (fp + fn + tp)\n",
    "fp5 = fp.astype(float)\n",
    "fn5 = fn.astype(float)\n",
    "tp5 = tp.astype(float)\n",
    "tn5 = tn.astype(float)\n",
    "print(cnf_matrix )\n",
    "\n",
    "#8.Xgb\n",
    "cnf_matrix =[]\n",
    "cnf_matrix = confusion_matrix(valid_y, y_pred_xgb)\n",
    "fp = cnf_matrix.sum(axis=0) - np.diag(cnf_matrix) \n",
    "fn = cnf_matrix.sum(axis=1) - np.diag(cnf_matrix)\n",
    "tp = np.diag(cnf_matrix)\n",
    "tn = cnf_matrix.sum() - (fp + fn + tp)\n",
    "fp6 = fp.astype(float)\n",
    "fn6 = fn.astype(float)\n",
    "tp6 = tp.astype(float)\n",
    "tn6 = tn.astype(float)\n",
    "print(cnf_matrix )\n",
    "\n",
    "tpx=[tp1,tp2,tp3,tp4,tp5,tp6]\n",
    "np.savetxt(f'{paths}/Tp_independent_{feature}.csv', tpx, delimiter=\",\")\n",
    "\n",
    "tnx=[tn1,tn2,tn3,tn4,tn5,tn6]\n",
    "np.savetxt(f'{paths}/Tn_independent_{feature}.csv', tnx, delimiter=\",\")\n",
    "\n",
    "fpx=[fp1,fp2,fp3,fp4,fp5,fp6]\n",
    "np.savetxt(f'{paths}/Fp_independent_{feature}.csv', fpx, delimiter=\",\")\n",
    "\n",
    "fnx=[fn1,fn2,fn3,fn4,fn5,fn6]\n",
    "np.savetxt(f'{paths}/Fn_independent_{feature}.csv', fnx, delimiter=\",\")"
   ]
  },
  {
   "cell_type": "code",
   "execution_count": null,
   "id": "69316027",
   "metadata": {},
   "outputs": [],
   "source": [
    "## Kappa multi\n",
    "d1 = {'DT': kappa_dt, 'ERT': kappa_ert,'KNN': kappa_knn, 'RF': kappa_rf, 'SVM': kappa_svm,'XGB': kappa_xgb}\n",
    "\n",
    "df_kappa = pd.concat([pd.Series(v, name=k) for k, v in d1.items()], axis=1)\n",
    "df_kappa.to_csv(f'{paths}/Independent_Kappa_{feature}.csv', index=False)\n",
    "df_kappa "
   ]
  },
  {
   "cell_type": "code",
   "execution_count": null,
   "id": "ec7b79ae",
   "metadata": {},
   "outputs": [],
   "source": [
    "## mccE\n",
    "d2 = {'DT-CPXV': np.array(mccE_dt)[0],'DT-MPXV': np.array(mccE_dt)[1], 'DT-VACV': np.array(mccE_dt)[2],'DT-VARV': np.array(mccE_dt)[3], \n",
    "     'ERT-CPXV': np.array(mccE_ert)[0],'ERT-MPXV': np.array(mccE_ert)[1], 'ERT-VACV': np.array(mccE_ert)[2],'ERT-VARV': np.array(mccE_ert)[3], \n",
    "     'KNN-CPXV': np.array(mccE_knn)[0],'KNN-MPXV': np.array(mccE_knn)[1], 'KNN-VACV': np.array(mccE_knn)[2],'KNN-VARV': np.array(mccE_knn)[3], \n",
    "     'RF-CPXV': np.array(mccE_rf)[0],'RF-MPXV': np.array(mccE_rf)[1], 'RF-VACV': np.array(mccE_rf)[2],'RF-VARV': np.array(mccE_rf)[3],  \n",
    "     'SVM-CPXV': np.array(mccE_svm)[0],'SVM-MPXV': np.array(mccE_svm)[1], 'SVM-VACV': np.array(mccE_svm)[2],'SVM-VARV': np.array(mccE_svm)[3],\n",
    "     'XGB-CPXV': np.array(mccE_xgb)[0],'XGB-MPXV': np.array(mccE_xgb)[1], 'XGB-VACV': np.array(mccE_xgb)[2],'XGB-VARV': np.array(mccE_xgb)[3]}\n",
    "\n",
    "df_mccE = pd.concat([pd.Series(v, name=k) for k, v in d2.items()], axis=1)\n",
    "df_mccE.to_csv(f'{paths}/Independent_mccE_{feature}.csv', index=False)\n",
    "df_mccE"
   ]
  },
  {
   "cell_type": "code",
   "execution_count": null,
   "id": "0f9470a8",
   "metadata": {},
   "outputs": [],
   "source": [
    "## sen\n",
    "d3 = {'DT-CPXV': np.array(sen_dt)[0],'DT-MPXV': np.array(sen_dt)[1], 'DT-VACV': np.array(sen_dt)[2],'DT-VARV': np.array(sen_dt)[3],\n",
    "     'ERT-CPXV': np.array(sen_ert)[0],'ERT-MPXV': np.array(sen_ert)[1], 'ERT-VACV': np.array(sen_ert)[2],'ERT-VARV': np.array(sen_ert)[3],\n",
    "     'KNN-CPXV': np.array(sen_knn)[0],'KNN-MPXV': np.array(sen_knn)[1], 'KNN-VACV': np.array(sen_knn)[2],'KNN-VARV': np.array(sen_knn)[3], \n",
    "#      'MLP-CPXV': np.array(sen_mlp)[0],'MLP-MPXV': np.array(sen_mlp)[1], 'MLP-VACV': np.array(sen_mlp)[2],'MLP-VARV': np.array(sen_mlp)[3],  \n",
    "#      'NB-CPXV': np.array(sen_nb)[0],'NB-MPXV': np.array(sen_nb)[1], 'NB-VACV': np.array(sen_nb)[2],'NB-VARV': np.array(sen_nb)[3],  \n",
    "     'RF-CPXV': np.array(sen_rf)[0],'RF-MPXV': np.array(sen_rf)[1], 'RF-VACV': np.array(sen_rf)[2],'RF-VARV': np.array(sen_rf)[3],  \n",
    "     'SVM-CPXV': np.array(sen_svm)[0],'SVM-MPXV': np.array(sen_svm)[1], 'SVM-VACV': np.array(sen_svm)[2],'SVM-VARV': np.array(sen_svm)[3],\n",
    "     'XGB-CPXV': np.array(sen_xgb)[0],'XGB-MPXV': np.array(sen_xgb)[1], 'XGB-VACV': np.array(sen_xgb)[2],'XGB-VARV': np.array(sen_xgb)[3]}\n",
    "\n",
    "df_sen = pd.concat([pd.Series(v, name=k) for k, v in d3.items()], axis=1)\n",
    "df_sen.to_csv(f'{paths}/Independent_sen_{feature}.csv', index=False)\n",
    "df_sen"
   ]
  },
  {
   "cell_type": "code",
   "execution_count": null,
   "id": "b1f997ac",
   "metadata": {},
   "outputs": [],
   "source": [
    "## spec\n",
    "d4 = {'DT-CPXV': np.array(spec_dt)[0],'DT-MPXV': np.array(spec_dt)[1], 'DT-VACV': np.array(spec_dt)[2],'DT-VARV': np.array(spec_dt)[3], \n",
    "     'ERT-CPXV': np.array(spec_ert)[0],'ERT-MPXV': np.array(spec_ert)[1], 'ERT-VACV': np.array(spec_ert)[2],'ERT-VARV': np.array(spec_ert)[3], \n",
    "     'KNN-CPXV': np.array(spec_knn)[0],'KNN-MPXV': np.array(spec_knn)[1], 'KNN-VACV': np.array(spec_knn)[2],'KNN-VARV': np.array(spec_knn)[3], \n",
    "     'RF-CPXV': np.array(spec_rf)[0],'RF-MPXV': np.array(spec_rf)[1], 'RF-VACV': np.array(spec_rf)[2],'RF-VARV': np.array(spec_rf)[3],  \n",
    "     'SVM-CPXV': np.array(spec_svm)[0],'SVM-MPXV': np.array(spec_svm)[1], 'SVM-VACV': np.array(spec_svm)[2],'SVM-VARV': np.array(spec_svm)[3],\n",
    "     'XGB-CPXV': np.array(spec_xgb)[0],'XGB-MPXV': np.array(spec_xgb)[1], 'XGB-VACV': np.array(spec_xgb)[2],'XGB-VARV': np.array(spec_xgb)[3]}\n",
    "\n",
    "df_spec = pd.concat([pd.Series(v, name=k) for k, v in d4.items()], axis=1)\n",
    "df_spec.to_csv(f'{paths}/Independent_spec_{feature}.csv', index=False)\n",
    "df_spec"
   ]
  },
  {
   "cell_type": "code",
   "execution_count": null,
   "id": "1a6da608",
   "metadata": {},
   "outputs": [],
   "source": [
    "## auc\n",
    "d = {'DT-CPXV': np.array(auc_dt)[0],'DT-MPXV': np.array(auc_dt)[1], 'DT-VACV': np.array(auc_dt)[2],'DT-VARV': np.array(auc_dt)[3], \n",
    "     'ERT-CPXV': np.array(auc_ert)[0],'ERT-MPXV': np.array(auc_ert)[1], 'ERT-VACV': np.array(auc_ert)[2],'ERT-VARV': np.array(auc_ert)[3], \n",
    "     'KNN-CPXV': np.array(auc_knn)[0],'KNN-MPXV': np.array(auc_knn)[1], 'KNN-VACV': np.array(auc_knn)[2],'KNN-VARV': np.array(auc_knn)[3], \n",
    "     'RF-CPXV': np.array(auc_rf)[0],'RF-MPXV': np.array(auc_rf)[1], 'RF-VACV': np.array(auc_rf)[2],'RF-VARV': np.array(auc_rf)[3],  \n",
    "     'SVM-CPXV': np.array(auc_svm)[0],'SVM-MPXV': np.array(auc_svm)[1], 'SVM-VACV': np.array(auc_svm)[2],'SVM-VARV': np.array(auc_svm)[3],\n",
    "     'XGB-CPXV': np.array(auc_xgb)[0],'XGB-MPXV': np.array(auc_xgb)[1], 'XGB-VACV': np.array(auc_xgb)[2],'XGB-VARV': np.array(auc_xgb)[3]}\n",
    "\n",
    "df_auc = pd.concat([pd.Series(v, name=k) for k, v in d.items()], axis=1)\n",
    "df_auc.to_csv(f'{paths}/Independent_auc_{feature}.csv', index=False)\n",
    "df_auc "
   ]
  },
  {
   "cell_type": "code",
   "execution_count": null,
   "id": "6e065b80",
   "metadata": {},
   "outputs": [],
   "source": [
    "## tp\n",
    "d6 = {'DT-CPXV': np.array(tp_dt)[0],'DT-MPXV': np.array(tp_dt)[1], 'DT-VACV': np.array(tp_dt)[2],'DT-VARV': np.array(tp_dt)[3], \n",
    "     'ERT-CPXV': np.array(tp_ert)[0],'ERT-MPXV': np.array(tp_ert)[1], 'ERT-VACV': np.array(tp_ert)[2],'ERT-VARV': np.array(tp_ert)[3], \n",
    "     'KNN-CPXV': np.array(tp_knn)[0],'KNN-MPXV': np.array(tp_knn)[1], 'KNN-VACV': np.array(tp_knn)[2],'KNN-VARV': np.array(tp_knn)[3], \n",
    "     'RF-CPXV': np.array(tp_rf)[0],'RF-MPXV': np.array(tp_rf)[1], 'RF-VACV': np.array(tp_rf)[2],'RF-VARV': np.array(tp_rf)[3],  \n",
    "     'SVM-CPXV': np.array(tp_svm)[0],'SVM-MPXV': np.array(tp_svm)[1], 'SVM-VACV': np.array(tp_svm)[2],'SVM-VARV': np.array(tp_svm)[3],\n",
    "     'XGB-CPXV': np.array(tp_xgb)[0],'XGB-MPXV': np.array(tp_xgb)[1], 'XGB-VACV': np.array(tp_xgb)[2],'XGB-VARV': np.array(tp_xgb)[3]}\n",
    "\n",
    "df_tp = pd.concat([pd.Series(v, name=k) for k, v in d6.items()], axis=1)\n",
    "df_tp.to_csv(f'{paths}/Independent_tp_{feature}.csv', index=False)\n",
    "df_tp"
   ]
  },
  {
   "cell_type": "code",
   "execution_count": null,
   "id": "5e3ced75",
   "metadata": {},
   "outputs": [],
   "source": [
    "## acc multi\n",
    "d7 = {'DT-CPXV': np.array(acc_dt),'DT-MPXV': np.array(acc_dt), 'DT-VACV': np.array(acc_dt),'DT-VARV': np.array(acc_dt), \n",
    "     'ERT-CPXV': np.array(acc_ert),'ERT-MPXV': np.array(acc_ert), 'ERT-VACV': np.array(acc_ert),'ERT-VARV': np.array(acc_ert), \n",
    "     'KNN-CPXV': np.array(acc_knn),'KNN-MPXV': np.array(acc_knn), 'KNN-VACV': np.array(acc_knn),'KNN-VARV': np.array(acc_knn), \n",
    "     'RF-CPXV': np.array(acc_rf),'RF-MPXV': np.array(acc_rf), 'RF-VACV': np.array(acc_rf),'RF-VARV': np.array(acc_rf),  \n",
    "     'SVM-CPXV': np.array(acc_svm),'SVM-MPXV': np.array(acc_svm), 'SVM-VACV': np.array(acc_svm),'SVM-VARV': np.array(acc_svm),\n",
    "     'XGB-CPXV': np.array(acc_xgb),'XGB-MPXV': np.array(acc_xgb), 'XGB-VACV': np.array(acc_xgb),'XGB-VARV': np.array(acc_xgb)}\n",
    "\n",
    "df_acc = pd.concat([pd.Series(v, name=k) for k, v in d7.items()], axis=1)\n",
    "df_acc.to_csv(f'{paths}/Independent_acc_{feature}.csv', index=False)\n",
    "df_acc"
   ]
  }
 ],
 "metadata": {
  "kernelspec": {
   "display_name": "Python 3 (ipykernel)",
   "language": "python",
   "name": "python3"
  },
  "language_info": {
   "codemirror_mode": {
    "name": "ipython",
    "version": 3
   },
   "file_extension": ".py",
   "mimetype": "text/x-python",
   "name": "python",
   "nbconvert_exporter": "python",
   "pygments_lexer": "ipython3",
   "version": "3.8.10"
  }
 },
 "nbformat": 4,
 "nbformat_minor": 5
}
